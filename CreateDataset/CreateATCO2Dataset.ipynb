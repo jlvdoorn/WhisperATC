{
 "cells": [
  {
   "attachments": {},
   "cell_type": "markdown",
   "metadata": {},
   "source": [
    "# Creating ATCO2 HuggingFace Dataset"
   ]
  },
  {
   "attachments": {},
   "cell_type": "markdown",
   "metadata": {},
   "source": [
    "### Initialize"
   ]
  },
  {
   "cell_type": "code",
   "execution_count": 1,
   "metadata": {},
   "outputs": [],
   "source": [
    "import datasets\n",
    "from datasets import Audio\n",
    "import glob\n",
    "import pandas as pd\n",
    "import os"
   ]
  },
  {
   "attachments": {},
   "cell_type": "markdown",
   "metadata": {},
   "source": [
    "### Create Metadata"
   ]
  },
  {
   "cell_type": "code",
   "execution_count": 44,
   "metadata": {},
   "outputs": [],
   "source": [
    "wav_files = glob.glob('./WhisperModel/ATCO2-ASR/DATA/*.wav')\n",
    "# wav_files.sort()\n",
    "\n",
    "txt_files = glob.glob('./WhisperModel/ATCO2-ASR/DATA/*.txt')\n",
    "# txt_files.sort()\n",
    "\n",
    "info_files = glob.glob('./WhisperModel/ATCO2-ASR/DATA/*.conv.info')\n",
    "# info_files.sort()"
   ]
  },
  {
   "cell_type": "code",
   "execution_count": 45,
   "metadata": {},
   "outputs": [
    {
     "name": "stdout",
     "output_type": "stream",
     "text": [
      "Files: 559\n",
      "Train: 419 75.0 %\n",
      "Val  : 27 5.0 %\n",
      "Test : 113 20.0 %\n"
     ]
    }
   ],
   "source": [
    "train_p = 0.75\n",
    "val_p = 0.05\n",
    "test_p = 0.20\n",
    "train_frac  = int(train_p * len(wav_files))\n",
    "val_frac    = int(val_p * len(wav_files))\n",
    "test_frac   = len(wav_files)-train_frac-val_frac\n",
    "print(\"Files:\",len(wav_files))\n",
    "print(\"Train:\", train_frac, 100*train_p, '%')\n",
    "print(\"Val  :\", val_frac, 100*val_p, '%')\n",
    "print(\"Test :\", test_frac, 100*test_p, '%')"
   ]
  },
  {
   "cell_type": "code",
   "execution_count": 46,
   "metadata": {},
   "outputs": [],
   "source": [
    "wav_files_train = wav_files[:train_frac]\n",
    "wav_files_val   = wav_files[train_frac:-test_frac]\n",
    "wav_files_test  = wav_files[-test_frac:]"
   ]
  },
  {
   "cell_type": "code",
   "execution_count": 47,
   "metadata": {},
   "outputs": [
    {
     "name": "stdout",
     "output_type": "stream",
     "text": [
      "/scratch/junzisun/whisper\n"
     ]
    }
   ],
   "source": [
    "print(os.getcwd())"
   ]
  },
  {
   "cell_type": "code",
   "execution_count": 48,
   "metadata": {},
   "outputs": [
    {
     "name": "stdout",
     "output_type": "stream",
     "text": [
      "./WhisperModel/ATCO2-ASR/DATA/LSZB_BERN_Approach_127_3MHz_20210414_182516.wav ./WhisperModel/ATCO2-ASR/DATA/train/LSZB_BERN_Approach_127_3MHz_20210414_182516.wav\n",
      "./WhisperModel/ATCO2-ASR/DATA/LSZB_BERN_Approach_127_3MHz_20210414_182516.txt ./WhisperModel/ATCO2-ASR/DATA/train/LSZB_BERN_Approach_127_3MHz_20210414_182516.txt\n",
      "./WhisperModel/ATCO2-ASR/DATA/LSZB_BERN_Approach_127_3MHz_20210414_182516.conv.info ./WhisperModel/ATCO2-ASR/DATA/train/LSZB_BERN_Approach_127_3MHz_20210414_182516.conv.info\n"
     ]
    }
   ],
   "source": [
    "wav_file = wav_files[0]\n",
    "orig_wav = wav_file\n",
    "dest_wav = '/'.join(orig_wav.split('/')[:-1])+'/train/'+orig_wav.split('/')[-1]\n",
    "orig_txt = wav_file[:-3]+'txt'\n",
    "dest_txt = '/'.join(orig_txt.split('/')[:-1])+'/train/'+orig_txt.split('/')[-1]\n",
    "orig_inf = wav_file[:-3]+'conv.info'\n",
    "dest_inf = '/'.join(orig_inf.split('/')[:-1])+'/train/'+orig_inf.split('/')[-1]\n",
    "\n",
    "print(orig_wav, dest_wav)\n",
    "print(orig_txt, dest_txt)\n",
    "print(orig_inf, dest_inf)\n"
   ]
  },
  {
   "cell_type": "code",
   "execution_count": null,
   "metadata": {},
   "outputs": [],
   "source": [
    "# print(wav_files_train[0])\n",
    "# print(wav_files_train[-1])\n",
    "# print(wav_files_val[0])\n",
    "# print(wav_files_val[-1])\n",
    "# print(wav_files_test[0])\n",
    "# print(wav_files_test[-1])\n",
    "# print(len(wav_files_train))\n",
    "# print(len(wav_files_val))\n",
    "# print(len(wav_files_test))"
   ]
  },
  {
   "cell_type": "code",
   "execution_count": 51,
   "metadata": {},
   "outputs": [],
   "source": [
    "for wav_file in wav_files_train:\n",
    "    orig_wav = wav_file\n",
    "    dest_wav = '/'.join(orig_wav.split('/')[:-1])+'/train/'+orig_wav.split('/')[-1]\n",
    "    orig_txt = wav_file[:-3]+'txt'\n",
    "    dest_txt = '/'.join(orig_txt.split('/')[:-1])+'/train/'+orig_txt.split('/')[-1]\n",
    "    orig_inf = wav_file[:-3]+'conv.info'\n",
    "    dest_inf = '/'.join(orig_inf.split('/')[:-1])+'/train/'+orig_inf.split('/')[-1]\n",
    "    os.rename(orig_wav, dest_wav)\n",
    "    os.rename(orig_txt, dest_txt)\n",
    "    os.rename(orig_inf, dest_inf)"
   ]
  },
  {
   "cell_type": "code",
   "execution_count": 52,
   "metadata": {},
   "outputs": [],
   "source": [
    "for wav_file in wav_files_val:\n",
    "    orig_wav = wav_file\n",
    "    dest_wav = '/'.join(orig_wav.split('/')[:-1])+'/val/'+orig_wav.split('/')[-1]\n",
    "    orig_txt = wav_file[:-3]+'txt'\n",
    "    dest_txt = '/'.join(orig_txt.split('/')[:-1])+'/val/'+orig_txt.split('/')[-1]\n",
    "    orig_inf = wav_file[:-3]+'conv.info'\n",
    "    dest_inf = '/'.join(orig_inf.split('/')[:-1])+'/val/'+orig_inf.split('/')[-1]\n",
    "    os.rename(orig_wav, dest_wav)\n",
    "    os.rename(orig_txt, dest_txt)\n",
    "    os.rename(orig_inf, dest_inf)"
   ]
  },
  {
   "cell_type": "code",
   "execution_count": 53,
   "metadata": {},
   "outputs": [],
   "source": [
    "for wav_file in wav_files_test:\n",
    "    orig_wav = wav_file\n",
    "    dest_wav = '/'.join(orig_wav.split('/')[:-1])+'/test/'+orig_wav.split('/')[-1]\n",
    "    orig_txt = wav_file[:-3]+'txt'\n",
    "    dest_txt = '/'.join(orig_txt.split('/')[:-1])+'/test/'+orig_txt.split('/')[-1]\n",
    "    orig_inf = wav_file[:-3]+'conv.info'\n",
    "    dest_inf = '/'.join(orig_inf.split('/')[:-1])+'/test/'+orig_inf.split('/')[-1]\n",
    "    os.rename(orig_wav, dest_wav)\n",
    "    os.rename(orig_txt, dest_txt)\n",
    "    os.rename(orig_inf, dest_inf)"
   ]
  },
  {
   "cell_type": "code",
   "execution_count": 59,
   "metadata": {},
   "outputs": [
    {
     "name": "stdout",
     "output_type": "stream",
     "text": [
      "train/LSGS_SION_Ground_Control_121_7MHz_20210504_134548.wav\n"
     ]
    }
   ],
   "source": [
    "wav_files = glob.glob('./WhisperModel/ATCO2-ASR/DATA/*/*.wav')\n",
    "wav_file = wav_files[0]\n",
    "print('/'.join(wav_file.split('/')[-2:]))"
   ]
  },
  {
   "cell_type": "code",
   "execution_count": 60,
   "metadata": {},
   "outputs": [],
   "source": [
    "df = pd.DataFrame(columns=['file_name', 'text', 'info'])\n",
    "\n",
    "wav_files = glob.glob('./WhisperModel/ATCO2-ASR/DATA/*/*.wav')\n",
    "wav_files.sort()\n",
    "\n",
    "for file in wav_files:\n",
    "    i = wav_files.index(file)\n",
    "    with open(file[:-3]+'txt') as f:\n",
    "        text = f.read()\n",
    "    with open(file[:-3]+'conv.info') as f:\n",
    "        info = f.read()\n",
    "\n",
    "    df.loc[i, 'file_name'] = '/'.join(file.split('/')[-2:])\n",
    "    df.loc[i, 'text'] = text\n",
    "    df.loc[i, 'info'] = info\n",
    "\n",
    "df.to_csv('./WhisperModel/ATCO2-ASR/DATA/metadata.csv', index=False)"
   ]
  },
  {
   "attachments": {},
   "cell_type": "markdown",
   "metadata": {},
   "source": [
    "### Load Dataset"
   ]
  },
  {
   "cell_type": "code",
   "execution_count": 61,
   "metadata": {},
   "outputs": [
    {
     "data": {
      "application/vnd.jupyter.widget-view+json": {
       "model_id": "373800e09d37402ebdcafacd73b0b432",
       "version_major": 2,
       "version_minor": 0
      },
      "text/plain": [
       "Resolving data files:   0%|          | 0/1257 [00:00<?, ?it/s]"
      ]
     },
     "metadata": {},
     "output_type": "display_data"
    },
    {
     "data": {
      "application/vnd.jupyter.widget-view+json": {
       "model_id": "2a2f67e9244748218192d95decedaa57",
       "version_major": 2,
       "version_minor": 0
      },
      "text/plain": [
       "Resolving data files:   0%|          | 0/81 [00:00<?, ?it/s]"
      ]
     },
     "metadata": {},
     "output_type": "display_data"
    },
    {
     "data": {
      "application/vnd.jupyter.widget-view+json": {
       "model_id": "fcd66237f013496da8dc0524502ef440",
       "version_major": 2,
       "version_minor": 0
      },
      "text/plain": [
       "Resolving data files:   0%|          | 0/339 [00:00<?, ?it/s]"
      ]
     },
     "metadata": {},
     "output_type": "display_data"
    },
    {
     "name": "stdout",
     "output_type": "stream",
     "text": [
      "Downloading and preparing dataset audiofolder/default to /home/junzisun/.cache/huggingface/datasets/audiofolder/default-9d0a841812b13490/0.0.0/6cbdd16f8688354c63b4e2a36e1585d05de285023ee6443ffd71c4182055c0fc...\n"
     ]
    },
    {
     "data": {
      "application/vnd.jupyter.widget-view+json": {
       "model_id": "de03d8a5a1be40cb9906fdf094709fb6",
       "version_major": 2,
       "version_minor": 0
      },
      "text/plain": [
       "Downloading data files:   0%|          | 0/420 [00:00<?, ?it/s]"
      ]
     },
     "metadata": {},
     "output_type": "display_data"
    },
    {
     "data": {
      "application/vnd.jupyter.widget-view+json": {
       "model_id": "af5821dabb1c459d8eabb4960cedba84",
       "version_major": 2,
       "version_minor": 0
      },
      "text/plain": [
       "Downloading data files:   0%|          | 0/838 [00:00<?, ?it/s]"
      ]
     },
     "metadata": {},
     "output_type": "display_data"
    },
    {
     "data": {
      "application/vnd.jupyter.widget-view+json": {
       "model_id": "e676d63f25c34747a9ea9a0519655e8f",
       "version_major": 2,
       "version_minor": 0
      },
      "text/plain": [
       "Extracting data files:   0%|          | 0/838 [00:00<?, ?it/s]"
      ]
     },
     "metadata": {},
     "output_type": "display_data"
    },
    {
     "data": {
      "application/vnd.jupyter.widget-view+json": {
       "model_id": "1bb6c47b52c2441ea83162f9358b784a",
       "version_major": 2,
       "version_minor": 0
      },
      "text/plain": [
       "Downloading data files:   0%|          | 0/28 [00:00<?, ?it/s]"
      ]
     },
     "metadata": {},
     "output_type": "display_data"
    },
    {
     "data": {
      "application/vnd.jupyter.widget-view+json": {
       "model_id": "3eebc561e3d34e21bbec3e2ef8f4391b",
       "version_major": 2,
       "version_minor": 0
      },
      "text/plain": [
       "Downloading data files:   0%|          | 0/54 [00:00<?, ?it/s]"
      ]
     },
     "metadata": {},
     "output_type": "display_data"
    },
    {
     "data": {
      "application/vnd.jupyter.widget-view+json": {
       "model_id": "8ea802e134ec46ee986190a0560ad0e7",
       "version_major": 2,
       "version_minor": 0
      },
      "text/plain": [
       "Extracting data files:   0%|          | 0/54 [00:00<?, ?it/s]"
      ]
     },
     "metadata": {},
     "output_type": "display_data"
    },
    {
     "data": {
      "application/vnd.jupyter.widget-view+json": {
       "model_id": "bba59e12e69149a59d39a8d10616160f",
       "version_major": 2,
       "version_minor": 0
      },
      "text/plain": [
       "Downloading data files:   0%|          | 0/114 [00:00<?, ?it/s]"
      ]
     },
     "metadata": {},
     "output_type": "display_data"
    },
    {
     "data": {
      "application/vnd.jupyter.widget-view+json": {
       "model_id": "ebc3f1e3cc49431eb52e5ccfb13a6626",
       "version_major": 2,
       "version_minor": 0
      },
      "text/plain": [
       "Downloading data files:   0%|          | 0/226 [00:00<?, ?it/s]"
      ]
     },
     "metadata": {},
     "output_type": "display_data"
    },
    {
     "data": {
      "application/vnd.jupyter.widget-view+json": {
       "model_id": "a82f7c6d402b476daec5d9728e4058f7",
       "version_major": 2,
       "version_minor": 0
      },
      "text/plain": [
       "Extracting data files:   0%|          | 0/226 [00:00<?, ?it/s]"
      ]
     },
     "metadata": {},
     "output_type": "display_data"
    },
    {
     "data": {
      "application/vnd.jupyter.widget-view+json": {
       "model_id": "765b969fa34945c3853bc3a974d9086b",
       "version_major": 2,
       "version_minor": 0
      },
      "text/plain": [
       "Generating train split: 0 examples [00:00, ? examples/s]"
      ]
     },
     "metadata": {},
     "output_type": "display_data"
    },
    {
     "data": {
      "application/vnd.jupyter.widget-view+json": {
       "model_id": "7875dac21923458bbcb8949917b1bf49",
       "version_major": 2,
       "version_minor": 0
      },
      "text/plain": [
       "Generating validation split: 0 examples [00:00, ? examples/s]"
      ]
     },
     "metadata": {},
     "output_type": "display_data"
    },
    {
     "data": {
      "application/vnd.jupyter.widget-view+json": {
       "model_id": "3d1adb901bcc4f199f5adbcdf9af98dc",
       "version_major": 2,
       "version_minor": 0
      },
      "text/plain": [
       "Generating test split: 0 examples [00:00, ? examples/s]"
      ]
     },
     "metadata": {},
     "output_type": "display_data"
    },
    {
     "name": "stdout",
     "output_type": "stream",
     "text": [
      "Dataset audiofolder downloaded and prepared to /home/junzisun/.cache/huggingface/datasets/audiofolder/default-9d0a841812b13490/0.0.0/6cbdd16f8688354c63b4e2a36e1585d05de285023ee6443ffd71c4182055c0fc. Subsequent calls will reuse this data.\n"
     ]
    },
    {
     "data": {
      "application/vnd.jupyter.widget-view+json": {
       "model_id": "2f5306f0e9894cb0b2839de4cbf93124",
       "version_major": 2,
       "version_minor": 0
      },
      "text/plain": [
       "  0%|          | 0/3 [00:00<?, ?it/s]"
      ]
     },
     "metadata": {},
     "output_type": "display_data"
    }
   ],
   "source": [
    "dataset = datasets.load_dataset(\"audiofolder\", data_dir = \"./WhisperModel/ATCO2-ASR/DATA\")"
   ]
  },
  {
   "cell_type": "code",
   "execution_count": 63,
   "metadata": {},
   "outputs": [
    {
     "data": {
      "text/plain": [
       "DatasetDict({\n",
       "    train: Dataset({\n",
       "        features: ['audio', 'text', 'info'],\n",
       "        num_rows: 419\n",
       "    })\n",
       "    validation: Dataset({\n",
       "        features: ['audio', 'text', 'info'],\n",
       "        num_rows: 27\n",
       "    })\n",
       "    test: Dataset({\n",
       "        features: ['audio', 'text', 'info'],\n",
       "        num_rows: 113\n",
       "    })\n",
       "})"
      ]
     },
     "execution_count": 63,
     "metadata": {},
     "output_type": "execute_result"
    }
   ],
   "source": [
    "dataset"
   ]
  },
  {
   "cell_type": "code",
   "execution_count": 62,
   "metadata": {},
   "outputs": [
    {
     "data": {
      "text/plain": [
       "{'audio': {'path': '/scratch/junzisun/whisper/WhisperModel/ATCO2-ASR/DATA/train/LKPR_RUZYNE_Radar_120_520MHz_20201025_091112.wav',\n",
       "  'array': array([ 0.00000000e+00,  0.00000000e+00,  0.00000000e+00, ...,\n",
       "         -6.10351562e-05, -6.10351562e-05, -6.10351562e-05]),\n",
       "  'sampling_rate': 16000},\n",
       " 'text': 'Oscar Kilo Papa Mike Bravo descend flight level one hundred level one hundred Oscar Kilo Papa Mike Bravo ',\n",
       " 'info': 'LKPR\\nPraha Ruzyne\\nRadar\\nAKEVA ARVEG BAGRU BAROX BAVIN BEKVI ELMEK ELPON ERASU EVEMI KENOK KUVIX LETNA RATEV RISUK SOMIS SULOV TIPRU UTORO\\nBLA131 BLA1XQ BTI7PY CTN480 DLH3NL DLH9TP ETD72E EWG6HP FIN1DH IRA711 KLM44K MLD863 MLD864 OKHBT OKLLZ OKMHZ OKPHM OKWUS17 OKYAI14 RYR1JU RYR4945 SXS7D THY32B THY6577 TIE790J UAE73  \\nAll Charter Air Baltic Croatia Lufthansa Etihad Eurowings Finn Iranair Klm Moldova Oklahoma Okapi Alfa Ryan Sunexpress Turkish Time Emirates'}"
      ]
     },
     "execution_count": 62,
     "metadata": {},
     "output_type": "execute_result"
    }
   ],
   "source": [
    "dataset['train'][0]"
   ]
  },
  {
   "attachments": {},
   "cell_type": "markdown",
   "metadata": {},
   "source": [
    "### Push to Hub"
   ]
  },
  {
   "cell_type": "code",
   "execution_count": 64,
   "metadata": {},
   "outputs": [
    {
     "name": "stderr",
     "output_type": "stream",
     "text": [
      "Pushing split train to the Hub.\n"
     ]
    },
    {
     "data": {
      "application/vnd.jupyter.widget-view+json": {
       "model_id": "3b69c938646f4d5fb6149cb357103b09",
       "version_major": 2,
       "version_minor": 0
      },
      "text/plain": [
       "Map:   0%|          | 0/419 [00:00<?, ? examples/s]"
      ]
     },
     "metadata": {},
     "output_type": "display_data"
    },
    {
     "data": {
      "application/vnd.jupyter.widget-view+json": {
       "model_id": "3d77fd68d50a42688451d038c02620ce",
       "version_major": 2,
       "version_minor": 0
      },
      "text/plain": [
       "Pushing dataset shards to the dataset hub:   0%|          | 0/1 [00:00<?, ?it/s]"
      ]
     },
     "metadata": {},
     "output_type": "display_data"
    },
    {
     "data": {
      "application/vnd.jupyter.widget-view+json": {
       "model_id": "d05dd1db27fd493a940794dae23d848d",
       "version_major": 2,
       "version_minor": 0
      },
      "text/plain": [
       "Creating parquet from Arrow format:   0%|          | 0/1 [00:00<?, ?ba/s]"
      ]
     },
     "metadata": {},
     "output_type": "display_data"
    },
    {
     "data": {
      "application/vnd.jupyter.widget-view+json": {
       "model_id": "014926057fe74248ad56c1032c5bc5e2",
       "version_major": 2,
       "version_minor": 0
      },
      "text/plain": [
       "Upload 1 LFS files:   0%|          | 0/1 [00:00<?, ?it/s]"
      ]
     },
     "metadata": {},
     "output_type": "display_data"
    },
    {
     "data": {
      "application/vnd.jupyter.widget-view+json": {
       "model_id": "5986d99dd0dc47a4b75306c1aac666e8",
       "version_major": 2,
       "version_minor": 0
      },
      "text/plain": [
       "Deleting unused files from dataset repository:   0%|          | 0/1 [00:00<?, ?it/s]"
      ]
     },
     "metadata": {},
     "output_type": "display_data"
    },
    {
     "name": "stderr",
     "output_type": "stream",
     "text": [
      "Pushing split validation to the Hub.\n"
     ]
    },
    {
     "data": {
      "application/vnd.jupyter.widget-view+json": {
       "model_id": "b2f2c38ff27a43578694f5bd38c57247",
       "version_major": 2,
       "version_minor": 0
      },
      "text/plain": [
       "Map:   0%|          | 0/27 [00:00<?, ? examples/s]"
      ]
     },
     "metadata": {},
     "output_type": "display_data"
    },
    {
     "data": {
      "application/vnd.jupyter.widget-view+json": {
       "model_id": "1ae0fbb1d6f546ea8c557a10e29c91fd",
       "version_major": 2,
       "version_minor": 0
      },
      "text/plain": [
       "Pushing dataset shards to the dataset hub:   0%|          | 0/1 [00:00<?, ?it/s]"
      ]
     },
     "metadata": {},
     "output_type": "display_data"
    },
    {
     "data": {
      "application/vnd.jupyter.widget-view+json": {
       "model_id": "61a5aab3463448868ca77688f3fb927b",
       "version_major": 2,
       "version_minor": 0
      },
      "text/plain": [
       "Creating parquet from Arrow format:   0%|          | 0/1 [00:00<?, ?ba/s]"
      ]
     },
     "metadata": {},
     "output_type": "display_data"
    },
    {
     "data": {
      "application/vnd.jupyter.widget-view+json": {
       "model_id": "b069a169296242278bb5da40da0ea8b1",
       "version_major": 2,
       "version_minor": 0
      },
      "text/plain": [
       "Upload 1 LFS files:   0%|          | 0/1 [00:00<?, ?it/s]"
      ]
     },
     "metadata": {},
     "output_type": "display_data"
    },
    {
     "name": "stderr",
     "output_type": "stream",
     "text": [
      "Pushing split test to the Hub.\n"
     ]
    },
    {
     "data": {
      "application/vnd.jupyter.widget-view+json": {
       "model_id": "a65997abfa7b44ab96cb013bb4a5a1df",
       "version_major": 2,
       "version_minor": 0
      },
      "text/plain": [
       "Map:   0%|          | 0/113 [00:00<?, ? examples/s]"
      ]
     },
     "metadata": {},
     "output_type": "display_data"
    },
    {
     "data": {
      "application/vnd.jupyter.widget-view+json": {
       "model_id": "6180c95927f84eaa8ed37e0d71664211",
       "version_major": 2,
       "version_minor": 0
      },
      "text/plain": [
       "Pushing dataset shards to the dataset hub:   0%|          | 0/1 [00:00<?, ?it/s]"
      ]
     },
     "metadata": {},
     "output_type": "display_data"
    },
    {
     "data": {
      "application/vnd.jupyter.widget-view+json": {
       "model_id": "623cf28d5744437b9d010e1d4c40d0bc",
       "version_major": 2,
       "version_minor": 0
      },
      "text/plain": [
       "Creating parquet from Arrow format:   0%|          | 0/1 [00:00<?, ?ba/s]"
      ]
     },
     "metadata": {},
     "output_type": "display_data"
    },
    {
     "data": {
      "application/vnd.jupyter.widget-view+json": {
       "model_id": "5d08bc113891462891f0ecf15c47cd38",
       "version_major": 2,
       "version_minor": 0
      },
      "text/plain": [
       "Upload 1 LFS files:   0%|          | 0/1 [00:00<?, ?it/s]"
      ]
     },
     "metadata": {},
     "output_type": "display_data"
    }
   ],
   "source": [
    "dataset.push_to_hub('jlvdoorn/ATCO2-ASR')"
   ]
  },
  {
   "cell_type": "code",
   "execution_count": 65,
   "metadata": {},
   "outputs": [
    {
     "data": {
      "text/html": [
       "<div>\n",
       "<style scoped>\n",
       "    .dataframe tbody tr th:only-of-type {\n",
       "        vertical-align: middle;\n",
       "    }\n",
       "\n",
       "    .dataframe tbody tr th {\n",
       "        vertical-align: top;\n",
       "    }\n",
       "\n",
       "    .dataframe thead th {\n",
       "        text-align: right;\n",
       "    }\n",
       "</style>\n",
       "<table border=\"1\" class=\"dataframe\">\n",
       "  <thead>\n",
       "    <tr style=\"text-align: right;\">\n",
       "      <th></th>\n",
       "      <th>file_name</th>\n",
       "      <th>text</th>\n",
       "      <th>info</th>\n",
       "    </tr>\n",
       "  </thead>\n",
       "  <tbody>\n",
       "    <tr>\n",
       "      <th>0</th>\n",
       "      <td>test/LKPR_RUZYNE_Radar_120_520MHz_20201025_140...</td>\n",
       "      <td>Eurowings Seven Alfa Bravo turn right heading ...</td>\n",
       "      <td>LKPR\\nPraha Ruzyne\\nRadar\\nAKEVA ARVEG BAGRU B...</td>\n",
       "    </tr>\n",
       "    <tr>\n",
       "      <th>1</th>\n",
       "      <td>test/LKPR_RUZYNE_Radar_120_520MHz_20201025_213...</td>\n",
       "      <td>Skytravel Two Eight Two Seven and there is clo...</td>\n",
       "      <td>LKPR\\nPraha Ruzyne\\nRadar\\n\\n\\n</td>\n",
       "    </tr>\n",
       "    <tr>\n",
       "      <th>2</th>\n",
       "      <td>test/LKPR_RUZYNE_Radar_120_520MHz_20201026_114...</td>\n",
       "      <td>Oscar Kilo Papa Romeo Mike turn right heading ...</td>\n",
       "      <td>LKPR\\nPraha Ruzyne\\nRadar\\nAKEVA ARVEG BAGRU B...</td>\n",
       "    </tr>\n",
       "    <tr>\n",
       "      <th>3</th>\n",
       "      <td>test/LKPR_RUZYNE_Radar_120_520MHz_20201026_144...</td>\n",
       "      <td>Radar  dobre odpoledne  Sky Travel Four Three ...</td>\n",
       "      <td>LKPR\\nPraha Ruzyne\\nRadar\\nAKEVA ARVEG BAGRU B...</td>\n",
       "    </tr>\n",
       "    <tr>\n",
       "      <th>4</th>\n",
       "      <td>test/LKPR_RUZYNE_Radar_120_520MHz_20201027_125...</td>\n",
       "      <td>one one eight decimal one   Six Five Zero that...</td>\n",
       "      <td>LKPR\\nPraha Ruzyne\\nRadar\\nAKEVA ARVEG BAGRU B...</td>\n",
       "    </tr>\n",
       "    <tr>\n",
       "      <th>...</th>\n",
       "      <td>...</td>\n",
       "      <td>...</td>\n",
       "      <td>...</td>\n",
       "    </tr>\n",
       "    <tr>\n",
       "      <th>554</th>\n",
       "      <td>val/LZIB_STEFANIK_Tower_118_3MHz_20210425_1304...</td>\n",
       "      <td>QNH one zero  one eight  after keep the procee...</td>\n",
       "      <td>LZIB\\nBratislava\\nTower\\nABETI ABLOM ADAMA AGM...</td>\n",
       "    </tr>\n",
       "    <tr>\n",
       "      <th>555</th>\n",
       "      <td>val/YSSY_SYDNEY_Tower_120_5MHz_20210428_013626...</td>\n",
       "      <td>Tower good day Jetstar seven sixty three Jetst...</td>\n",
       "      <td>YSSY\\nSydney\\nTower\\nABBEY ANKUB ATRET BEROW B...</td>\n",
       "    </tr>\n",
       "    <tr>\n",
       "      <th>556</th>\n",
       "      <td>val/YSSY_SYDNEY_Tower_120_5MHz_20210502_004327...</td>\n",
       "      <td>China Southern Three Twenty Six contact depart...</td>\n",
       "      <td>YSSY\\nSydney\\nTower\\nABBEY ANKUB ATRET BEROW B...</td>\n",
       "    </tr>\n",
       "    <tr>\n",
       "      <th>557</th>\n",
       "      <td>val/YSSY_SYDNEY_Tower_120_5MHz_20210503_122443...</td>\n",
       "      <td>tower United Twenty Twelve is just outside  Ga...</td>\n",
       "      <td>YSSY\\nSydney\\nTower\\nABBEY ANKUB ATRET BEROW B...</td>\n",
       "    </tr>\n",
       "    <tr>\n",
       "      <th>558</th>\n",
       "      <td>val/YSSY_SYDNEY_Tower_120_5MHz_20210505_121757...</td>\n",
       "      <td>one six right cleared to land Jetex Seven Four...</td>\n",
       "      <td>YSSY\\nSydney\\nTower\\nABBEY ANKUB ATRET BEROW B...</td>\n",
       "    </tr>\n",
       "  </tbody>\n",
       "</table>\n",
       "<p>559 rows × 3 columns</p>\n",
       "</div>"
      ],
      "text/plain": [
       "                                             file_name  \\\n",
       "0    test/LKPR_RUZYNE_Radar_120_520MHz_20201025_140...   \n",
       "1    test/LKPR_RUZYNE_Radar_120_520MHz_20201025_213...   \n",
       "2    test/LKPR_RUZYNE_Radar_120_520MHz_20201026_114...   \n",
       "3    test/LKPR_RUZYNE_Radar_120_520MHz_20201026_144...   \n",
       "4    test/LKPR_RUZYNE_Radar_120_520MHz_20201027_125...   \n",
       "..                                                 ...   \n",
       "554  val/LZIB_STEFANIK_Tower_118_3MHz_20210425_1304...   \n",
       "555  val/YSSY_SYDNEY_Tower_120_5MHz_20210428_013626...   \n",
       "556  val/YSSY_SYDNEY_Tower_120_5MHz_20210502_004327...   \n",
       "557  val/YSSY_SYDNEY_Tower_120_5MHz_20210503_122443...   \n",
       "558  val/YSSY_SYDNEY_Tower_120_5MHz_20210505_121757...   \n",
       "\n",
       "                                                  text  \\\n",
       "0    Eurowings Seven Alfa Bravo turn right heading ...   \n",
       "1    Skytravel Two Eight Two Seven and there is clo...   \n",
       "2    Oscar Kilo Papa Romeo Mike turn right heading ...   \n",
       "3    Radar  dobre odpoledne  Sky Travel Four Three ...   \n",
       "4    one one eight decimal one   Six Five Zero that...   \n",
       "..                                                 ...   \n",
       "554  QNH one zero  one eight  after keep the procee...   \n",
       "555  Tower good day Jetstar seven sixty three Jetst...   \n",
       "556  China Southern Three Twenty Six contact depart...   \n",
       "557  tower United Twenty Twelve is just outside  Ga...   \n",
       "558  one six right cleared to land Jetex Seven Four...   \n",
       "\n",
       "                                                  info  \n",
       "0    LKPR\\nPraha Ruzyne\\nRadar\\nAKEVA ARVEG BAGRU B...  \n",
       "1                      LKPR\\nPraha Ruzyne\\nRadar\\n\\n\\n  \n",
       "2    LKPR\\nPraha Ruzyne\\nRadar\\nAKEVA ARVEG BAGRU B...  \n",
       "3    LKPR\\nPraha Ruzyne\\nRadar\\nAKEVA ARVEG BAGRU B...  \n",
       "4    LKPR\\nPraha Ruzyne\\nRadar\\nAKEVA ARVEG BAGRU B...  \n",
       "..                                                 ...  \n",
       "554  LZIB\\nBratislava\\nTower\\nABETI ABLOM ADAMA AGM...  \n",
       "555  YSSY\\nSydney\\nTower\\nABBEY ANKUB ATRET BEROW B...  \n",
       "556  YSSY\\nSydney\\nTower\\nABBEY ANKUB ATRET BEROW B...  \n",
       "557  YSSY\\nSydney\\nTower\\nABBEY ANKUB ATRET BEROW B...  \n",
       "558  YSSY\\nSydney\\nTower\\nABBEY ANKUB ATRET BEROW B...  \n",
       "\n",
       "[559 rows x 3 columns]"
      ]
     },
     "execution_count": 65,
     "metadata": {},
     "output_type": "execute_result"
    }
   ],
   "source": [
    "df"
   ]
  },
  {
   "cell_type": "code",
   "execution_count": 68,
   "metadata": {},
   "outputs": [
    {
     "name": "stdout",
     "output_type": "stream",
     "text": [
      "{'audio': {'path': '/scratch/junzisun/whisper/WhisperModel/ATCO2-ASR/DATA/train/LKPR_RUZYNE_Radar_120_520MHz_20201025_091112.wav', 'array': array([ 0.00000000e+00,  0.00000000e+00,  0.00000000e+00, ...,\n",
      "       -6.10351562e-05, -6.10351562e-05, -6.10351562e-05]), 'sampling_rate': 16000}, 'text': 'Oscar Kilo Papa Mike Bravo descend flight level one hundred level one hundred Oscar Kilo Papa Mike Bravo ', 'info': 'LKPR\\nPraha Ruzyne\\nRadar\\nAKEVA ARVEG BAGRU BAROX BAVIN BEKVI ELMEK ELPON ERASU EVEMI KENOK KUVIX LETNA RATEV RISUK SOMIS SULOV TIPRU UTORO\\nBLA131 BLA1XQ BTI7PY CTN480 DLH3NL DLH9TP ETD72E EWG6HP FIN1DH IRA711 KLM44K MLD863 MLD864 OKHBT OKLLZ OKMHZ OKPHM OKWUS17 OKYAI14 RYR1JU RYR4945 SXS7D THY32B THY6577 TIE790J UAE73  \\nAll Charter Air Baltic Croatia Lufthansa Etihad Eurowings Finn Iranair Klm Moldova Oklahoma Okapi Alfa Ryan Sunexpress Turkish Time Emirates'}\n",
      "{'audio': {'path': '/scratch/junzisun/whisper/WhisperModel/ATCO2-ASR/DATA/test/LKPR_RUZYNE_Radar_120_520MHz_20201025_140929.wav', 'array': array([ 0.        ,  0.        ,  0.        , ..., -0.00036621,\n",
      "        0.00091553,  0.00036621]), 'sampling_rate': 16000}, 'text': 'Eurowings Seven Alfa Bravo turn right heading two one zero cleared ILS approach runway two four report established heading(-ding)  two one zero cleared for the ILS two four report established Eurowings Seven Alpha Bravo ', 'info': 'LKPR\\nPraha Ruzyne\\nRadar\\nAKEVA ARVEG BAGRU BAROX BAVIN BEKVI ELMEK ELPON ERASU EVEMI KENOK KUVIX LETNA RATEV RISUK SOMIS SULOV TIPRU UTORO\\nOKLBA PGT302 EZS93AV WZZ9654 TAP1244 QTR8005 PGT1527 DHK547 RYR73AH DLH6YW OKOUU37 AFR10BE RYR2YK SDR4272 OKLLZ TRA6868 UAE139 OKDKB CSA2DZ RRR4941 DEBLN OKPMP LZB301 BRU862 PGT76A OKMHZ RYR2122 DLH4RM OKAVK OKWYZ BLA1RK OKHBT CSA6KG OKXAI04 AFR108Z OKYAI14 RYR5XL UAE140 OKUUR14 OKKEA EWG7AB EWG7677 CSA94D OKSOL OKHSI SFS80 OKTOP  \\nOklahoma Alfa Sun Turk Topswiss Wizzair Air Portugal Qatari World Express Ryan Lufthansa France Sundair Transavia Emirates Csa / Czech Ascot/kittyhawk Debonair Okapi Flying Bulgaria Belarus Avia Okayjet All Charter Eurowings Topo Soko'}\n"
     ]
    },
    {
     "ename": "KeyError",
     "evalue": "'val'",
     "output_type": "error",
     "traceback": [
      "\u001b[0;31m---------------------------------------------------------------------------\u001b[0m",
      "\u001b[0;31mKeyError\u001b[0m                                  Traceback (most recent call last)",
      "Cell \u001b[0;32mIn[68], line 3\u001b[0m\n\u001b[1;32m      1\u001b[0m \u001b[39mprint\u001b[39m(dataset[\u001b[39m'\u001b[39m\u001b[39mtrain\u001b[39m\u001b[39m'\u001b[39m][\u001b[39m0\u001b[39m])\n\u001b[1;32m      2\u001b[0m \u001b[39mprint\u001b[39m(dataset[\u001b[39m'\u001b[39m\u001b[39mtest\u001b[39m\u001b[39m'\u001b[39m][\u001b[39m0\u001b[39m])\n\u001b[0;32m----> 3\u001b[0m \u001b[39mprint\u001b[39m(dataset[\u001b[39m'\u001b[39;49m\u001b[39mval\u001b[39;49m\u001b[39m'\u001b[39;49m][\u001b[39m0\u001b[39m])\n",
      "File \u001b[0;32m/scratch/junzisun/env/jan/lib/python3.10/site-packages/datasets/dataset_dict.py:57\u001b[0m, in \u001b[0;36mDatasetDict.__getitem__\u001b[0;34m(self, k)\u001b[0m\n\u001b[1;32m     55\u001b[0m \u001b[39mdef\u001b[39;00m \u001b[39m__getitem__\u001b[39m(\u001b[39mself\u001b[39m, k) \u001b[39m-\u001b[39m\u001b[39m>\u001b[39m Dataset:\n\u001b[1;32m     56\u001b[0m     \u001b[39mif\u001b[39;00m \u001b[39misinstance\u001b[39m(k, (\u001b[39mstr\u001b[39m, NamedSplit)) \u001b[39mor\u001b[39;00m \u001b[39mlen\u001b[39m(\u001b[39mself\u001b[39m) \u001b[39m==\u001b[39m \u001b[39m0\u001b[39m:\n\u001b[0;32m---> 57\u001b[0m         \u001b[39mreturn\u001b[39;00m \u001b[39msuper\u001b[39;49m()\u001b[39m.\u001b[39;49m\u001b[39m__getitem__\u001b[39;49m(k)\n\u001b[1;32m     58\u001b[0m     \u001b[39melse\u001b[39;00m:\n\u001b[1;32m     59\u001b[0m         available_suggested_splits \u001b[39m=\u001b[39m [\n\u001b[1;32m     60\u001b[0m             split \u001b[39mfor\u001b[39;00m split \u001b[39min\u001b[39;00m (Split\u001b[39m.\u001b[39mTRAIN, Split\u001b[39m.\u001b[39mTEST, Split\u001b[39m.\u001b[39mVALIDATION) \u001b[39mif\u001b[39;00m split \u001b[39min\u001b[39;00m \u001b[39mself\u001b[39m\n\u001b[1;32m     61\u001b[0m         ]\n",
      "\u001b[0;31mKeyError\u001b[0m: 'val'"
     ]
    }
   ],
   "source": [
    "print(dataset['train'][0])\n",
    "print(dataset['test'][0])\n",
    "print(dataset['validation'][0])"
   ]
  },
  {
   "cell_type": "code",
   "execution_count": 5,
   "metadata": {},
   "outputs": [
    {
     "name": "stderr",
     "output_type": "stream",
     "text": [
      "Found cached dataset parquet (/home/junzisun/.cache/huggingface/datasets/jlvdoorn___parquet/jlvdoorn--atco2-asr-f85d5a24af8d05df/0.0.0/2a3b91fbd88a2c90d1dbbb32b460cf621d31bd5b05b934492fdef7d8d6f236ec)\n",
      "Found cached dataset parquet (/home/junzisun/.cache/huggingface/datasets/jlvdoorn___parquet/jlvdoorn--atco2-asr-f85d5a24af8d05df/0.0.0/2a3b91fbd88a2c90d1dbbb32b460cf621d31bd5b05b934492fdef7d8d6f236ec)\n"
     ]
    }
   ],
   "source": [
    "from datasets import load_dataset, DatasetDict\n",
    "\n",
    "dataset = DatasetDict()\n",
    "\n",
    "dataset['train'] = load_dataset(\"jlvdoorn/atco2-asr\", split=\"train+validation\")\n",
    "dataset['test']  = load_dataset(\"jlvdoorn/atco2-asr\", split=\"test\")"
   ]
  },
  {
   "cell_type": "code",
   "execution_count": 6,
   "metadata": {},
   "outputs": [
    {
     "data": {
      "text/plain": [
       "DatasetDict({\n",
       "    train: Dataset({\n",
       "        features: ['audio', 'text', 'info'],\n",
       "        num_rows: 446\n",
       "    })\n",
       "    test: Dataset({\n",
       "        features: ['audio', 'text', 'info'],\n",
       "        num_rows: 113\n",
       "    })\n",
       "})"
      ]
     },
     "execution_count": 6,
     "metadata": {},
     "output_type": "execute_result"
    }
   ],
   "source": [
    "dataset"
   ]
  }
 ],
 "metadata": {
  "kernelspec": {
   "display_name": "Python 3 (ipykernel)",
   "language": "python",
   "name": "python3"
  },
  "language_info": {
   "codemirror_mode": {
    "name": "ipython",
    "version": 3
   },
   "file_extension": ".py",
   "mimetype": "text/x-python",
   "name": "python",
   "nbconvert_exporter": "python",
   "pygments_lexer": "ipython3",
   "version": "3.10.10"
  },
  "orig_nbformat": 4
 },
 "nbformat": 4,
 "nbformat_minor": 2
}
