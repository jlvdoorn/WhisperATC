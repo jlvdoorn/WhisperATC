{
 "cells": [
  {
   "attachments": {},
   "cell_type": "markdown",
   "metadata": {},
   "source": [
    "# Creating ATCO2 HuggingFace Dataset"
   ]
  },
  {
   "attachments": {},
   "cell_type": "markdown",
   "metadata": {},
   "source": [
    "### Initialize"
   ]
  },
  {
   "cell_type": "code",
   "execution_count": 1,
   "metadata": {},
   "outputs": [],
   "source": [
    "import datasets\n",
    "from datasets import Audio\n",
    "import glob\n",
    "import pandas as pd\n",
    "import os"
   ]
  },
  {
   "attachments": {},
   "cell_type": "markdown",
   "metadata": {},
   "source": [
    "### Create Metadata"
   ]
  },
  {
   "cell_type": "code",
   "execution_count": 30,
   "metadata": {},
   "outputs": [],
   "source": [
    "train_wav = glob.glob('./WhisperModel/ATCO2-ASR-ATCOSIM/train/*.wav')\n",
    "test_wav = glob.glob('./WhisperModel/ATCO2-ASR-ATCOSIM/test/*.wav')\n",
    "val_wav = glob.glob('./WhisperModel/ATCO2-ASR-ATCOSIM/val/*.wav')"
   ]
  },
  {
   "cell_type": "code",
   "execution_count": 31,
   "metadata": {},
   "outputs": [],
   "source": [
    "df = pd.DataFrame(columns=['file_name', 'text', 'info'])\n",
    "\n",
    "wav_files = glob.glob('./WhisperModel/ATCO2-ASR-ATCOSIM/*/*.wav')\n",
    "wav_files.sort()\n",
    "\n",
    "for file in wav_files:\n",
    "    i = wav_files.index(file)\n",
    "    with open(file[:-3]+'txt') as f:\n",
    "        text = f.read()\n",
    "    try:\n",
    "        with open(file[:-3]+'conv.info') as f:\n",
    "            info = f.read()\n",
    "    except:\n",
    "        info = ''\n",
    "\n",
    "    df.loc[i, 'file_name'] = '/'.join(file.split('/')[-2:])\n",
    "    df.loc[i, 'text'] = text\n",
    "    df.loc[i, 'info'] = info\n",
    "\n",
    "df.to_csv('./WhisperModel/ATCO2-ASR-ATCOSIM/metadata.csv', index=False)"
   ]
  },
  {
   "cell_type": "code",
   "execution_count": 45,
   "metadata": {},
   "outputs": [
    {
     "data": {
      "text/html": [
       "<div>\n",
       "<style scoped>\n",
       "    .dataframe tbody tr th:only-of-type {\n",
       "        vertical-align: middle;\n",
       "    }\n",
       "\n",
       "    .dataframe tbody tr th {\n",
       "        vertical-align: top;\n",
       "    }\n",
       "\n",
       "    .dataframe thead th {\n",
       "        text-align: right;\n",
       "    }\n",
       "</style>\n",
       "<table border=\"1\" class=\"dataframe\">\n",
       "  <thead>\n",
       "    <tr style=\"text-align: right;\">\n",
       "      <th></th>\n",
       "      <th>file_name</th>\n",
       "      <th>text</th>\n",
       "      <th>info</th>\n",
       "    </tr>\n",
       "  </thead>\n",
       "  <tbody>\n",
       "    <tr>\n",
       "      <th>0</th>\n",
       "      <td>test/LKPR_RUZYNE_Radar_120_520MHz_20201025_140...</td>\n",
       "      <td>Eurowings Seven Alfa Bravo turn right heading ...</td>\n",
       "      <td>LKPR\\nPraha Ruzyne\\nRadar\\nAKEVA ARVEG BAGRU B...</td>\n",
       "    </tr>\n",
       "    <tr>\n",
       "      <th>1</th>\n",
       "      <td>test/LKPR_RUZYNE_Radar_120_520MHz_20201025_213...</td>\n",
       "      <td>Skytravel Two Eight Two Seven and there is clo...</td>\n",
       "      <td>LKPR\\nPraha Ruzyne\\nRadar\\n\\n\\n</td>\n",
       "    </tr>\n",
       "    <tr>\n",
       "      <th>2</th>\n",
       "      <td>test/LKPR_RUZYNE_Radar_120_520MHz_20201026_114...</td>\n",
       "      <td>Oscar Kilo Papa Romeo Mike turn right heading ...</td>\n",
       "      <td>LKPR\\nPraha Ruzyne\\nRadar\\nAKEVA ARVEG BAGRU B...</td>\n",
       "    </tr>\n",
       "    <tr>\n",
       "      <th>3</th>\n",
       "      <td>test/LKPR_RUZYNE_Radar_120_520MHz_20201026_144...</td>\n",
       "      <td>Radar  dobre odpoledne  Sky Travel Four Three ...</td>\n",
       "      <td>LKPR\\nPraha Ruzyne\\nRadar\\nAKEVA ARVEG BAGRU B...</td>\n",
       "    </tr>\n",
       "    <tr>\n",
       "      <th>4</th>\n",
       "      <td>test/LKPR_RUZYNE_Radar_120_520MHz_20201027_125...</td>\n",
       "      <td>one one eight decimal one   Six Five Zero that...</td>\n",
       "      <td>LKPR\\nPraha Ruzyne\\nRadar\\nAKEVA ARVEG BAGRU B...</td>\n",
       "    </tr>\n",
       "    <tr>\n",
       "      <th>...</th>\n",
       "      <td>...</td>\n",
       "      <td>...</td>\n",
       "      <td>...</td>\n",
       "    </tr>\n",
       "    <tr>\n",
       "      <th>10113</th>\n",
       "      <td>val/zf3_03_086.wav</td>\n",
       "      <td>five two six one are you interested in three f...</td>\n",
       "      <td></td>\n",
       "    </tr>\n",
       "    <tr>\n",
       "      <th>10114</th>\n",
       "      <td>val/zf3_03_152.wav</td>\n",
       "      <td>lufthansa three five five zero milan one three...</td>\n",
       "      <td></td>\n",
       "    </tr>\n",
       "    <tr>\n",
       "      <th>10115</th>\n",
       "      <td>val/zf3_03_155.wav</td>\n",
       "      <td>sabena eight zero six  thanks for cooperation ...</td>\n",
       "      <td></td>\n",
       "    </tr>\n",
       "    <tr>\n",
       "      <th>10116</th>\n",
       "      <td>val/zf3_03_171.wav</td>\n",
       "      <td>airfrans two four two six good morning</td>\n",
       "      <td></td>\n",
       "    </tr>\n",
       "    <tr>\n",
       "      <th>10117</th>\n",
       "      <td>val/zf3_03_180.wav</td>\n",
       "      <td>alitalia two nine one descend to flight level ...</td>\n",
       "      <td></td>\n",
       "    </tr>\n",
       "  </tbody>\n",
       "</table>\n",
       "<p>10118 rows × 3 columns</p>\n",
       "</div>"
      ],
      "text/plain": [
       "                                               file_name  \\\n",
       "0      test/LKPR_RUZYNE_Radar_120_520MHz_20201025_140...   \n",
       "1      test/LKPR_RUZYNE_Radar_120_520MHz_20201025_213...   \n",
       "2      test/LKPR_RUZYNE_Radar_120_520MHz_20201026_114...   \n",
       "3      test/LKPR_RUZYNE_Radar_120_520MHz_20201026_144...   \n",
       "4      test/LKPR_RUZYNE_Radar_120_520MHz_20201027_125...   \n",
       "...                                                  ...   \n",
       "10113                                 val/zf3_03_086.wav   \n",
       "10114                                 val/zf3_03_152.wav   \n",
       "10115                                 val/zf3_03_155.wav   \n",
       "10116                                 val/zf3_03_171.wav   \n",
       "10117                                 val/zf3_03_180.wav   \n",
       "\n",
       "                                                    text  \\\n",
       "0      Eurowings Seven Alfa Bravo turn right heading ...   \n",
       "1      Skytravel Two Eight Two Seven and there is clo...   \n",
       "2      Oscar Kilo Papa Romeo Mike turn right heading ...   \n",
       "3      Radar  dobre odpoledne  Sky Travel Four Three ...   \n",
       "4      one one eight decimal one   Six Five Zero that...   \n",
       "...                                                  ...   \n",
       "10113  five two six one are you interested in three f...   \n",
       "10114  lufthansa three five five zero milan one three...   \n",
       "10115  sabena eight zero six  thanks for cooperation ...   \n",
       "10116            airfrans two four two six good morning    \n",
       "10117  alitalia two nine one descend to flight level ...   \n",
       "\n",
       "                                                    info  \n",
       "0      LKPR\\nPraha Ruzyne\\nRadar\\nAKEVA ARVEG BAGRU B...  \n",
       "1                        LKPR\\nPraha Ruzyne\\nRadar\\n\\n\\n  \n",
       "2      LKPR\\nPraha Ruzyne\\nRadar\\nAKEVA ARVEG BAGRU B...  \n",
       "3      LKPR\\nPraha Ruzyne\\nRadar\\nAKEVA ARVEG BAGRU B...  \n",
       "4      LKPR\\nPraha Ruzyne\\nRadar\\nAKEVA ARVEG BAGRU B...  \n",
       "...                                                  ...  \n",
       "10113                                                     \n",
       "10114                                                     \n",
       "10115                                                     \n",
       "10116                                                     \n",
       "10117                                                     \n",
       "\n",
       "[10118 rows x 3 columns]"
      ]
     },
     "execution_count": 45,
     "metadata": {},
     "output_type": "execute_result"
    }
   ],
   "source": [
    "df"
   ]
  },
  {
   "attachments": {},
   "cell_type": "markdown",
   "metadata": {},
   "source": [
    "### Load Dataset"
   ]
  },
  {
   "cell_type": "code",
   "execution_count": 46,
   "metadata": {},
   "outputs": [
    {
     "data": {
      "application/vnd.jupyter.widget-view+json": {
       "model_id": "34a2ac22d05549239eb113319638b5a2",
       "version_major": 2,
       "version_minor": 0
      },
      "text/plain": [
       "Resolving data files:   0%|          | 0/15595 [00:00<?, ?it/s]"
      ]
     },
     "metadata": {},
     "output_type": "display_data"
    },
    {
     "data": {
      "application/vnd.jupyter.widget-view+json": {
       "model_id": "530c7364da8d4f4bbc45feaea16a2e22",
       "version_major": 2,
       "version_minor": 0
      },
      "text/plain": [
       "Resolving data files:   0%|          | 0/1035 [00:00<?, ?it/s]"
      ]
     },
     "metadata": {},
     "output_type": "display_data"
    },
    {
     "data": {
      "application/vnd.jupyter.widget-view+json": {
       "model_id": "62e6bb77cd9c42e78afb5dd441289e9d",
       "version_major": 2,
       "version_minor": 0
      },
      "text/plain": [
       "Resolving data files:   0%|          | 0/4165 [00:00<?, ?it/s]"
      ]
     },
     "metadata": {},
     "output_type": "display_data"
    },
    {
     "name": "stdout",
     "output_type": "stream",
     "text": [
      "Downloading and preparing dataset audiofolder/default to /home/junzisun/.cache/huggingface/datasets/audiofolder/default-ff1974f9ce205c6c/0.0.0/6cbdd16f8688354c63b4e2a36e1585d05de285023ee6443ffd71c4182055c0fc...\n"
     ]
    },
    {
     "data": {
      "application/vnd.jupyter.widget-view+json": {
       "model_id": "80242641ed904b57b9e1492af2530d42",
       "version_major": 2,
       "version_minor": 0
      },
      "text/plain": [
       "Downloading data files:   0%|          | 0/7589 [00:00<?, ?it/s]"
      ]
     },
     "metadata": {},
     "output_type": "display_data"
    },
    {
     "data": {
      "application/vnd.jupyter.widget-view+json": {
       "model_id": "f3261162cb9c489c8580cd9152fa432f",
       "version_major": 2,
       "version_minor": 0
      },
      "text/plain": [
       "Downloading data files:   0%|          | 0/8007 [00:00<?, ?it/s]"
      ]
     },
     "metadata": {},
     "output_type": "display_data"
    },
    {
     "data": {
      "application/vnd.jupyter.widget-view+json": {
       "model_id": "cc13753c62754ce0b2737b84009cec88",
       "version_major": 2,
       "version_minor": 0
      },
      "text/plain": [
       "Extracting data files:   0%|          | 0/8007 [00:00<?, ?it/s]"
      ]
     },
     "metadata": {},
     "output_type": "display_data"
    },
    {
     "data": {
      "application/vnd.jupyter.widget-view+json": {
       "model_id": "ba21c66215934519ad4ec58868ccee86",
       "version_major": 2,
       "version_minor": 0
      },
      "text/plain": [
       "Downloading data files:   0%|          | 0/505 [00:00<?, ?it/s]"
      ]
     },
     "metadata": {},
     "output_type": "display_data"
    },
    {
     "data": {
      "application/vnd.jupyter.widget-view+json": {
       "model_id": "c94d2a93a7194994868060e4193180b0",
       "version_major": 2,
       "version_minor": 0
      },
      "text/plain": [
       "Downloading data files:   0%|          | 0/531 [00:00<?, ?it/s]"
      ]
     },
     "metadata": {},
     "output_type": "display_data"
    },
    {
     "data": {
      "application/vnd.jupyter.widget-view+json": {
       "model_id": "9dfe01387418441ca9379ef408b44f0c",
       "version_major": 2,
       "version_minor": 0
      },
      "text/plain": [
       "Extracting data files:   0%|          | 0/531 [00:00<?, ?it/s]"
      ]
     },
     "metadata": {},
     "output_type": "display_data"
    },
    {
     "data": {
      "application/vnd.jupyter.widget-view+json": {
       "model_id": "65ca5cbc693d4f5ebe9b271a13270be3",
       "version_major": 2,
       "version_minor": 0
      },
      "text/plain": [
       "Downloading data files:   0%|          | 0/2027 [00:00<?, ?it/s]"
      ]
     },
     "metadata": {},
     "output_type": "display_data"
    },
    {
     "data": {
      "application/vnd.jupyter.widget-view+json": {
       "model_id": "23b21056a08947a6a094ab31bb33e264",
       "version_major": 2,
       "version_minor": 0
      },
      "text/plain": [
       "Downloading data files:   0%|          | 0/2139 [00:00<?, ?it/s]"
      ]
     },
     "metadata": {},
     "output_type": "display_data"
    },
    {
     "data": {
      "application/vnd.jupyter.widget-view+json": {
       "model_id": "ef466dbcafc44d1fa93f219fd5d276a6",
       "version_major": 2,
       "version_minor": 0
      },
      "text/plain": [
       "Extracting data files:   0%|          | 0/2139 [00:00<?, ?it/s]"
      ]
     },
     "metadata": {},
     "output_type": "display_data"
    },
    {
     "data": {
      "application/vnd.jupyter.widget-view+json": {
       "model_id": "a19dd47233b64e0aa78fabda3a0f87e9",
       "version_major": 2,
       "version_minor": 0
      },
      "text/plain": [
       "Generating train split: 0 examples [00:00, ? examples/s]"
      ]
     },
     "metadata": {},
     "output_type": "display_data"
    },
    {
     "data": {
      "application/vnd.jupyter.widget-view+json": {
       "model_id": "8a061bd42a074f9da0e58d2e6c5317cf",
       "version_major": 2,
       "version_minor": 0
      },
      "text/plain": [
       "Generating validation split: 0 examples [00:00, ? examples/s]"
      ]
     },
     "metadata": {},
     "output_type": "display_data"
    },
    {
     "data": {
      "application/vnd.jupyter.widget-view+json": {
       "model_id": "1dd0e142b43840d491350133e8435dee",
       "version_major": 2,
       "version_minor": 0
      },
      "text/plain": [
       "Generating test split: 0 examples [00:00, ? examples/s]"
      ]
     },
     "metadata": {},
     "output_type": "display_data"
    },
    {
     "name": "stdout",
     "output_type": "stream",
     "text": [
      "Dataset audiofolder downloaded and prepared to /home/junzisun/.cache/huggingface/datasets/audiofolder/default-ff1974f9ce205c6c/0.0.0/6cbdd16f8688354c63b4e2a36e1585d05de285023ee6443ffd71c4182055c0fc. Subsequent calls will reuse this data.\n"
     ]
    },
    {
     "data": {
      "application/vnd.jupyter.widget-view+json": {
       "model_id": "f97be1dc73544c7cb69561f590b244fa",
       "version_major": 2,
       "version_minor": 0
      },
      "text/plain": [
       "  0%|          | 0/3 [00:00<?, ?it/s]"
      ]
     },
     "metadata": {},
     "output_type": "display_data"
    }
   ],
   "source": [
    "dataset = datasets.load_dataset(\"audiofolder\", data_dir = \"./WhisperModel/ATCO2-ASR-ATCOSIM\")"
   ]
  },
  {
   "cell_type": "code",
   "execution_count": 47,
   "metadata": {},
   "outputs": [
    {
     "data": {
      "text/plain": [
       "DatasetDict({\n",
       "    train: Dataset({\n",
       "        features: ['audio', 'text', 'info'],\n",
       "        num_rows: 7588\n",
       "    })\n",
       "    validation: Dataset({\n",
       "        features: ['audio', 'text', 'info'],\n",
       "        num_rows: 504\n",
       "    })\n",
       "    test: Dataset({\n",
       "        features: ['audio', 'text', 'info'],\n",
       "        num_rows: 2026\n",
       "    })\n",
       "})"
      ]
     },
     "execution_count": 47,
     "metadata": {},
     "output_type": "execute_result"
    }
   ],
   "source": [
    "dataset"
   ]
  },
  {
   "cell_type": "code",
   "execution_count": 48,
   "metadata": {},
   "outputs": [
    {
     "data": {
      "text/plain": [
       "{'audio': {'path': '/scratch/junzisun/whisper/WhisperModel/ATCO2-ASR-ATCOSIM/train/LKPR_RUZYNE_Radar_120_520MHz_20201025_091112.wav',\n",
       "  'array': array([ 0.00000000e+00,  0.00000000e+00,  0.00000000e+00, ...,\n",
       "         -6.10351562e-05, -6.10351562e-05, -6.10351562e-05]),\n",
       "  'sampling_rate': 16000},\n",
       " 'text': 'Oscar Kilo Papa Mike Bravo descend flight level one hundred level one hundred Oscar Kilo Papa Mike Bravo ',\n",
       " 'info': 'LKPR\\nPraha Ruzyne\\nRadar\\nAKEVA ARVEG BAGRU BAROX BAVIN BEKVI ELMEK ELPON ERASU EVEMI KENOK KUVIX LETNA RATEV RISUK SOMIS SULOV TIPRU UTORO\\nBLA131 BLA1XQ BTI7PY CTN480 DLH3NL DLH9TP ETD72E EWG6HP FIN1DH IRA711 KLM44K MLD863 MLD864 OKHBT OKLLZ OKMHZ OKPHM OKWUS17 OKYAI14 RYR1JU RYR4945 SXS7D THY32B THY6577 TIE790J UAE73  \\nAll Charter Air Baltic Croatia Lufthansa Etihad Eurowings Finn Iranair Klm Moldova Oklahoma Okapi Alfa Ryan Sunexpress Turkish Time Emirates'}"
      ]
     },
     "execution_count": 48,
     "metadata": {},
     "output_type": "execute_result"
    }
   ],
   "source": [
    "dataset['train'][0]"
   ]
  },
  {
   "attachments": {},
   "cell_type": "markdown",
   "metadata": {},
   "source": [
    "### Push to Hub"
   ]
  },
  {
   "cell_type": "code",
   "execution_count": 55,
   "metadata": {},
   "outputs": [
    {
     "name": "stderr",
     "output_type": "stream",
     "text": [
      "Pushing split train to the Hub.\n"
     ]
    },
    {
     "data": {
      "application/vnd.jupyter.widget-view+json": {
       "model_id": "adbdf33f790748e88dc8bfc0273d756e",
       "version_major": 2,
       "version_minor": 0
      },
      "text/plain": [
       "Map:   0%|          | 0/1897 [00:00<?, ? examples/s]"
      ]
     },
     "metadata": {},
     "output_type": "display_data"
    },
    {
     "data": {
      "application/vnd.jupyter.widget-view+json": {
       "model_id": "9d697cac63f94b42bdbcc61b705a0ead",
       "version_major": 2,
       "version_minor": 0
      },
      "text/plain": [
       "Pushing dataset shards to the dataset hub:   0%|          | 0/4 [00:00<?, ?it/s]"
      ]
     },
     "metadata": {},
     "output_type": "display_data"
    },
    {
     "data": {
      "application/vnd.jupyter.widget-view+json": {
       "model_id": "60e567aef7c84b81ae9a503157f26316",
       "version_major": 2,
       "version_minor": 0
      },
      "text/plain": [
       "Creating parquet from Arrow format:   0%|          | 0/2 [00:00<?, ?ba/s]"
      ]
     },
     "metadata": {},
     "output_type": "display_data"
    },
    {
     "data": {
      "application/vnd.jupyter.widget-view+json": {
       "model_id": "aa04a8b0bf5b4e248dedabb40118a866",
       "version_major": 2,
       "version_minor": 0
      },
      "text/plain": [
       "Upload 1 LFS files:   0%|          | 0/1 [00:00<?, ?it/s]"
      ]
     },
     "metadata": {},
     "output_type": "display_data"
    },
    {
     "data": {
      "application/vnd.jupyter.widget-view+json": {
       "model_id": "676ade6ab5c54eb488a50a6d7d3b0856",
       "version_major": 2,
       "version_minor": 0
      },
      "text/plain": [
       "Map:   0%|          | 0/1897 [00:00<?, ? examples/s]"
      ]
     },
     "metadata": {},
     "output_type": "display_data"
    },
    {
     "data": {
      "application/vnd.jupyter.widget-view+json": {
       "model_id": "e88332b7a9a040a19e19e20550106806",
       "version_major": 2,
       "version_minor": 0
      },
      "text/plain": [
       "Creating parquet from Arrow format:   0%|          | 0/2 [00:00<?, ?ba/s]"
      ]
     },
     "metadata": {},
     "output_type": "display_data"
    },
    {
     "data": {
      "application/vnd.jupyter.widget-view+json": {
       "model_id": "5e0b3b10fd7d420e9a5f2535f243f8e5",
       "version_major": 2,
       "version_minor": 0
      },
      "text/plain": [
       "Upload 1 LFS files:   0%|          | 0/1 [00:00<?, ?it/s]"
      ]
     },
     "metadata": {},
     "output_type": "display_data"
    },
    {
     "data": {
      "application/vnd.jupyter.widget-view+json": {
       "model_id": "077558cb5ae748cfab2b856eb8cd1cbd",
       "version_major": 2,
       "version_minor": 0
      },
      "text/plain": [
       "Map:   0%|          | 0/1897 [00:00<?, ? examples/s]"
      ]
     },
     "metadata": {},
     "output_type": "display_data"
    },
    {
     "data": {
      "application/vnd.jupyter.widget-view+json": {
       "model_id": "36f288c9e5dd4de58e3aee538328b2b7",
       "version_major": 2,
       "version_minor": 0
      },
      "text/plain": [
       "Creating parquet from Arrow format:   0%|          | 0/2 [00:00<?, ?ba/s]"
      ]
     },
     "metadata": {},
     "output_type": "display_data"
    },
    {
     "data": {
      "application/vnd.jupyter.widget-view+json": {
       "model_id": "18e6a90f41034f4aaa3b8c5634573b6e",
       "version_major": 2,
       "version_minor": 0
      },
      "text/plain": [
       "Upload 1 LFS files:   0%|          | 0/1 [00:00<?, ?it/s]"
      ]
     },
     "metadata": {},
     "output_type": "display_data"
    },
    {
     "data": {
      "application/vnd.jupyter.widget-view+json": {
       "model_id": "ac4da14157e84122b6583695014bcd9f",
       "version_major": 2,
       "version_minor": 0
      },
      "text/plain": [
       "Map:   0%|          | 0/1897 [00:00<?, ? examples/s]"
      ]
     },
     "metadata": {},
     "output_type": "display_data"
    },
    {
     "data": {
      "application/vnd.jupyter.widget-view+json": {
       "model_id": "8c997fa639a54bae82faac067b8316fa",
       "version_major": 2,
       "version_minor": 0
      },
      "text/plain": [
       "Creating parquet from Arrow format:   0%|          | 0/2 [00:00<?, ?ba/s]"
      ]
     },
     "metadata": {},
     "output_type": "display_data"
    },
    {
     "data": {
      "application/vnd.jupyter.widget-view+json": {
       "model_id": "54ec6c25b8e649a2a38da0a431a72b6f",
       "version_major": 2,
       "version_minor": 0
      },
      "text/plain": [
       "Upload 1 LFS files:   0%|          | 0/1 [00:00<?, ?it/s]"
      ]
     },
     "metadata": {},
     "output_type": "display_data"
    },
    {
     "name": "stderr",
     "output_type": "stream",
     "text": [
      "Pushing split validation to the Hub.\n"
     ]
    },
    {
     "data": {
      "application/vnd.jupyter.widget-view+json": {
       "model_id": "9917099bfc7b464db2d819f4d9dc8c4e",
       "version_major": 2,
       "version_minor": 0
      },
      "text/plain": [
       "Map:   0%|          | 0/504 [00:00<?, ? examples/s]"
      ]
     },
     "metadata": {},
     "output_type": "display_data"
    },
    {
     "data": {
      "application/vnd.jupyter.widget-view+json": {
       "model_id": "011803eb2e07466590386bcc1bb04dd3",
       "version_major": 2,
       "version_minor": 0
      },
      "text/plain": [
       "Pushing dataset shards to the dataset hub:   0%|          | 0/1 [00:00<?, ?it/s]"
      ]
     },
     "metadata": {},
     "output_type": "display_data"
    },
    {
     "data": {
      "application/vnd.jupyter.widget-view+json": {
       "model_id": "bd44ee625dca4763a1f3d74445f9b9d7",
       "version_major": 2,
       "version_minor": 0
      },
      "text/plain": [
       "Creating parquet from Arrow format:   0%|          | 0/1 [00:00<?, ?ba/s]"
      ]
     },
     "metadata": {},
     "output_type": "display_data"
    },
    {
     "data": {
      "application/vnd.jupyter.widget-view+json": {
       "model_id": "9b0bd5daee7742618bb845b4ae0d43c5",
       "version_major": 2,
       "version_minor": 0
      },
      "text/plain": [
       "Upload 1 LFS files:   0%|          | 0/1 [00:00<?, ?it/s]"
      ]
     },
     "metadata": {},
     "output_type": "display_data"
    },
    {
     "name": "stderr",
     "output_type": "stream",
     "text": [
      "Pushing split test to the Hub.\n"
     ]
    },
    {
     "data": {
      "application/vnd.jupyter.widget-view+json": {
       "model_id": "be90e721771447c7940ab9b26b5524b8",
       "version_major": 2,
       "version_minor": 0
      },
      "text/plain": [
       "Map:   0%|          | 0/1013 [00:00<?, ? examples/s]"
      ]
     },
     "metadata": {},
     "output_type": "display_data"
    },
    {
     "data": {
      "application/vnd.jupyter.widget-view+json": {
       "model_id": "e8c1a84226dd4657b72fcbd335f4104b",
       "version_major": 2,
       "version_minor": 0
      },
      "text/plain": [
       "Pushing dataset shards to the dataset hub:   0%|          | 0/2 [00:00<?, ?it/s]"
      ]
     },
     "metadata": {},
     "output_type": "display_data"
    },
    {
     "data": {
      "application/vnd.jupyter.widget-view+json": {
       "model_id": "b830097802a44033a8aec6b181314958",
       "version_major": 2,
       "version_minor": 0
      },
      "text/plain": [
       "Creating parquet from Arrow format:   0%|          | 0/2 [00:00<?, ?ba/s]"
      ]
     },
     "metadata": {},
     "output_type": "display_data"
    },
    {
     "data": {
      "application/vnd.jupyter.widget-view+json": {
       "model_id": "cb6c96f5de804b1ca741e6ee14b7c5f9",
       "version_major": 2,
       "version_minor": 0
      },
      "text/plain": [
       "Upload 1 LFS files:   0%|          | 0/1 [00:00<?, ?it/s]"
      ]
     },
     "metadata": {},
     "output_type": "display_data"
    },
    {
     "data": {
      "application/vnd.jupyter.widget-view+json": {
       "model_id": "7ff7757b333c466ba798e0ef2c58e9bb",
       "version_major": 2,
       "version_minor": 0
      },
      "text/plain": [
       "Map:   0%|          | 0/1013 [00:00<?, ? examples/s]"
      ]
     },
     "metadata": {},
     "output_type": "display_data"
    },
    {
     "data": {
      "application/vnd.jupyter.widget-view+json": {
       "model_id": "7440ac218d3f455f83ee3ada79950a41",
       "version_major": 2,
       "version_minor": 0
      },
      "text/plain": [
       "Creating parquet from Arrow format:   0%|          | 0/2 [00:00<?, ?ba/s]"
      ]
     },
     "metadata": {},
     "output_type": "display_data"
    },
    {
     "data": {
      "application/vnd.jupyter.widget-view+json": {
       "model_id": "ccc9015f3bf243e0bda458ec1f9c3d05",
       "version_major": 2,
       "version_minor": 0
      },
      "text/plain": [
       "Upload 1 LFS files:   0%|          | 0/1 [00:00<?, ?it/s]"
      ]
     },
     "metadata": {},
     "output_type": "display_data"
    }
   ],
   "source": [
    "dataset.push_to_hub('jlvdoorn/atco2-asr-atcosim')"
   ]
  },
  {
   "cell_type": "code",
   "execution_count": 56,
   "metadata": {},
   "outputs": [
    {
     "name": "stdout",
     "output_type": "stream",
     "text": [
      "{'audio': {'path': '/scratch/junzisun/whisper/WhisperModel/ATCO2-ASR-ATCOSIM/train/LKPR_RUZYNE_Radar_120_520MHz_20201025_091112.wav', 'array': array([ 0.00000000e+00,  0.00000000e+00,  0.00000000e+00, ...,\n",
      "       -6.10351562e-05, -6.10351562e-05, -6.10351562e-05]), 'sampling_rate': 16000}, 'text': 'Oscar Kilo Papa Mike Bravo descend flight level one hundred level one hundred Oscar Kilo Papa Mike Bravo ', 'info': 'LKPR\\nPraha Ruzyne\\nRadar\\nAKEVA ARVEG BAGRU BAROX BAVIN BEKVI ELMEK ELPON ERASU EVEMI KENOK KUVIX LETNA RATEV RISUK SOMIS SULOV TIPRU UTORO\\nBLA131 BLA1XQ BTI7PY CTN480 DLH3NL DLH9TP ETD72E EWG6HP FIN1DH IRA711 KLM44K MLD863 MLD864 OKHBT OKLLZ OKMHZ OKPHM OKWUS17 OKYAI14 RYR1JU RYR4945 SXS7D THY32B THY6577 TIE790J UAE73  \\nAll Charter Air Baltic Croatia Lufthansa Etihad Eurowings Finn Iranair Klm Moldova Oklahoma Okapi Alfa Ryan Sunexpress Turkish Time Emirates'}\n",
      "{'audio': {'path': '/scratch/junzisun/whisper/WhisperModel/ATCO2-ASR-ATCOSIM/test/LKPR_RUZYNE_Radar_120_520MHz_20201025_140929.wav', 'array': array([ 0.        ,  0.        ,  0.        , ..., -0.00036621,\n",
      "        0.00091553,  0.00036621]), 'sampling_rate': 16000}, 'text': 'Eurowings Seven Alfa Bravo turn right heading two one zero cleared ILS approach runway two four report established heading(-ding)  two one zero cleared for the ILS two four report established Eurowings Seven Alpha Bravo ', 'info': 'LKPR\\nPraha Ruzyne\\nRadar\\nAKEVA ARVEG BAGRU BAROX BAVIN BEKVI ELMEK ELPON ERASU EVEMI KENOK KUVIX LETNA RATEV RISUK SOMIS SULOV TIPRU UTORO\\nOKLBA PGT302 EZS93AV WZZ9654 TAP1244 QTR8005 PGT1527 DHK547 RYR73AH DLH6YW OKOUU37 AFR10BE RYR2YK SDR4272 OKLLZ TRA6868 UAE139 OKDKB CSA2DZ RRR4941 DEBLN OKPMP LZB301 BRU862 PGT76A OKMHZ RYR2122 DLH4RM OKAVK OKWYZ BLA1RK OKHBT CSA6KG OKXAI04 AFR108Z OKYAI14 RYR5XL UAE140 OKUUR14 OKKEA EWG7AB EWG7677 CSA94D OKSOL OKHSI SFS80 OKTOP  \\nOklahoma Alfa Sun Turk Topswiss Wizzair Air Portugal Qatari World Express Ryan Lufthansa France Sundair Transavia Emirates Csa / Czech Ascot/kittyhawk Debonair Okapi Flying Bulgaria Belarus Avia Okayjet All Charter Eurowings Topo Soko'}\n",
      "{'audio': {'path': '/scratch/junzisun/whisper/WhisperModel/ATCO2-ASR-ATCOSIM/val/LKPR_RUZYNE_Radar_120_520MHz_20201026_145941.wav', 'array': array([ 0.        ,  0.        ,  0.        , ..., -0.00018311,\n",
      "       -0.00018311, -0.00018311]), 'sampling_rate': 16000}, 'text': 'Oscar Kilo Triple Hotel please confirm one more holding Oscar Kilo Hotel Hotel Hotel affirm one holding and then it should be possible to follow ILS runway zero six roger thank you ', 'info': 'LKPR\\nPraha Ruzyne\\nRadar\\n\\n\\n'}\n"
     ]
    }
   ],
   "source": [
    "print(dataset['train'][0])\n",
    "print(dataset['test'][0])\n",
    "print(dataset['validation'][0])"
   ]
  }
 ],
 "metadata": {
  "kernelspec": {
   "display_name": "Python 3 (ipykernel)",
   "language": "python",
   "name": "python3"
  },
  "language_info": {
   "codemirror_mode": {
    "name": "ipython",
    "version": 3
   },
   "file_extension": ".py",
   "mimetype": "text/x-python",
   "name": "python",
   "nbconvert_exporter": "python",
   "pygments_lexer": "ipython3",
   "version": "3.10.10"
  },
  "orig_nbformat": 4
 },
 "nbformat": 4,
 "nbformat_minor": 2
}
