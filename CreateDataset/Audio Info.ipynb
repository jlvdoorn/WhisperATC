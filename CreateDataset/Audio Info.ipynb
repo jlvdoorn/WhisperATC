{
 "cells": [
  {
   "cell_type": "markdown",
   "id": "f81cff9f",
   "metadata": {},
   "source": [
    "# Non HF Datasets"
   ]
  },
  {
   "cell_type": "code",
   "execution_count": null,
   "id": "4fae7c7b-434c-4dcd-a6d1-5495b74fc875",
   "metadata": {},
   "outputs": [],
   "source": [
    "import glob\n",
    "import audioread"
   ]
  },
  {
   "cell_type": "code",
   "execution_count": null,
   "id": "d5226fa3-530e-4438-85db-5c3a8e9c61b3",
   "metadata": {},
   "outputs": [],
   "source": [
    "wav_files = glob.glob('./audio/*.wav')\n",
    "if len(wav_files) == 0:\n",
    "    print('No Audio files found!')"
   ]
  },
  {
   "cell_type": "code",
   "execution_count": null,
   "id": "71f62a83-d904-4953-b44a-a9c33c7b247e",
   "metadata": {},
   "outputs": [],
   "source": [
    "# function to convert the information into \n",
    "# some readable format\n",
    "def audio_duration(length):\n",
    "    hours = length // 3600  # calculate in hours\n",
    "    length %= 3600\n",
    "    mins = length // 60  # calculate in minutes\n",
    "    length %= 60\n",
    "    seconds = length  # calculate in seconds\n",
    "  \n",
    "    return hours, mins, seconds  # returns the duration"
   ]
  },
  {
   "cell_type": "code",
   "execution_count": null,
   "id": "d7f3de42-2ff1-4850-b1be-a6e5011cf9a6",
   "metadata": {},
   "outputs": [],
   "source": [
    "length = 0\n",
    "for file in wav_files:\n",
    "    with audioread.audio_open(file) as f:\n",
    "        totalsec = f.duration\n",
    "        length = length+int(totalsec)\n",
    "        print('Processed: {:.3f}%'.format(wav_files.index(file) / len(wav_files) * 100))"
   ]
  },
  {
   "cell_type": "code",
   "execution_count": null,
   "id": "7abff8ba-42d7-4302-baef-ec7c7b262a65",
   "metadata": {},
   "outputs": [],
   "source": [
    "hours, mins, seconds = audio_duration(length)\n",
    "print('Total Duration: {}:{}:{}'.format(hours, mins, seconds))\n",
    "print('Audio Files   : {}'.format(len(wav_files)))"
   ]
  },
  {
   "cell_type": "markdown",
   "id": "d078c8a2",
   "metadata": {},
   "source": [
    "# HF Datasets"
   ]
  },
  {
   "cell_type": "code",
   "execution_count": null,
   "id": "dbf821a6",
   "metadata": {},
   "outputs": [],
   "source": [
    "from datasets import load_dataset"
   ]
  },
  {
   "cell_type": "code",
   "execution_count": null,
   "id": "59487884",
   "metadata": {},
   "outputs": [],
   "source": [
    "atco2 = load_dataset('jlvdoorn/atco2-asr')\n",
    "atcosim = load_dataset('jlvdoorn/atcosim')\n",
    "atco2_atcosim = load_dataset('jlvdoorn/atco2-asr-atcosim')"
   ]
  },
  {
   "cell_type": "code",
   "execution_count": null,
   "id": "ccd362e0",
   "metadata": {},
   "outputs": [],
   "source": [
    "def getDurInSec(sample):\n",
    "    return len(sample['audio']['array'])/sample['audio']['sampling_rate']\n",
    "\n",
    "def calcTotalDurInSec(dts):\n",
    "    ttd_train = 0\n",
    "    ttd_valid = 0\n",
    "    for smp in dts['train']:\n",
    "            ttd_train = ttd_train + getDurInSec(smp)\n",
    "    for smp in dts['validation']:\n",
    "            ttd_valid = ttd_valid + getDurInSec(smp)\n",
    "            \n",
    "    print('Dataset       : {}'.format(dts))\n",
    "    print('Total Duration: {:.2f} Hours in {} files'.format((ttd_train+ttd_valid)/60/60, int(len(dts['train'])+len(dts['validation']))))\n",
    "    print('Training      : {:.2f} Hours in {} files'.format(ttd_train/60/60, int(len(dts['train']))))\n",
    "    print('Validation    : {:.2f} Hours in {} files'.format(ttd_valid/60/60, int(len(dts['validation']))))"
   ]
  },
  {
   "cell_type": "code",
   "execution_count": null,
   "id": "7e8fa684",
   "metadata": {},
   "outputs": [],
   "source": [
    "print('ATCO2')\n",
    "calcTotalDurInSec(atco2)\n",
    "print('')\n",
    "print('ATCOSIM')\n",
    "calcTotalDurInSec(atcosim)\n",
    "print('')\n",
    "print('ATCO2-ATCOSIM')\n",
    "calcTotalDurInSec(atco2_atcosim)"
   ]
  }
 ],
 "metadata": {
  "kernelspec": {
   "display_name": "whisper",
   "language": "python",
   "name": "python3"
  },
  "language_info": {
   "codemirror_mode": {
    "name": "ipython",
    "version": 3
   },
   "file_extension": ".py",
   "mimetype": "text/x-python",
   "name": "python",
   "nbconvert_exporter": "python",
   "pygments_lexer": "ipython3",
   "version": "3.11.3"
  }
 },
 "nbformat": 4,
 "nbformat_minor": 5
}
