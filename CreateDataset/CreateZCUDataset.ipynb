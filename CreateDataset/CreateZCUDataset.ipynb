{
 "cells": [
  {
   "attachments": {},
   "cell_type": "markdown",
   "metadata": {},
   "source": [
    "# Creating ZCU-CZ-ATC HuggingFace Dataset"
   ]
  },
  {
   "attachments": {},
   "cell_type": "markdown",
   "metadata": {},
   "source": [
    "### Initialize"
   ]
  },
  {
   "cell_type": "code",
   "execution_count": 1,
   "metadata": {},
   "outputs": [],
   "source": [
    "import datasets\n",
    "from datasets import Audio\n",
    "import glob\n",
    "import pandas as pd"
   ]
  },
  {
   "attachments": {},
   "cell_type": "markdown",
   "metadata": {},
   "source": [
    "### Create Metadata"
   ]
  },
  {
   "cell_type": "code",
   "execution_count": 3,
   "metadata": {},
   "outputs": [],
   "source": [
    "wav_files = glob.glob('./WhisperModel/ZCU_CZ_ATC/*.wav')\n",
    "\n",
    "txt_files = glob.glob('./WhisperModel/ZCU_CZ_ATC/*.txt')"
   ]
  },
  {
   "cell_type": "code",
   "execution_count": 4,
   "metadata": {},
   "outputs": [
    {
     "name": "stdout",
     "output_type": "stream",
     "text": [
      "Files: 2657\n",
      "Train: 1992 75.0 %\n",
      "Val  : 132 5.0 %\n",
      "Test : 533 20.0 %\n"
     ]
    }
   ],
   "source": [
    "train_p = 0.75\n",
    "val_p = 0.05\n",
    "test_p = 0.20\n",
    "\n",
    "train_frac  = int(train_p * len(wav_files))\n",
    "val_frac    = int(val_p * len(wav_files))\n",
    "test_frac   = len(wav_files)-train_frac-val_frac\n",
    "\n",
    "print(\"Files:\",len(wav_files))\n",
    "print(\"Train:\", train_frac, 100*train_p, '%')\n",
    "print(\"Val  :\", val_frac, 100*val_p, '%')\n",
    "print(\"Test :\", test_frac, 100*test_p, '%')"
   ]
  },
  {
   "cell_type": "code",
   "execution_count": 13,
   "metadata": {},
   "outputs": [],
   "source": [
    "wav_files_train = wav_files[:train_frac]\n",
    "wav_files_val   = wav_files[train_frac:-test_frac]\n",
    "wav_files_test  = wav_files[-test_frac:]"
   ]
  },
  {
   "cell_type": "code",
   "execution_count": 14,
   "metadata": {},
   "outputs": [
    {
     "name": "stdout",
     "output_type": "stream",
     "text": [
      "./WhisperModel/ZCU_CZ_ATC/TWR-4Sap7y.wav ./WhisperModel/ZCU_CZ_ATC/train/TWR-4Sap7y.wav\n",
      "./WhisperModel/ZCU_CZ_ATC/TWR-4Sap7y.txt ./WhisperModel/ZCU_CZ_ATC/train/TWR-4Sap7y.txt\n"
     ]
    }
   ],
   "source": [
    "wav_file = wav_files[0]\n",
    "orig_wav = wav_file\n",
    "dest_wav = '/'.join(orig_wav.split('/')[:-1])+'/train/'+orig_wav.split('/')[-1]\n",
    "orig_txt = orig_wav[:-3]+'txt'\n",
    "dest_txt = '/'.join(orig_txt.split('/')[:-1])+'/train/'+orig_txt.split('/')[-1]\n",
    "\n",
    "print(orig_wav, dest_wav)\n",
    "print(orig_txt, dest_txt)"
   ]
  },
  {
   "cell_type": "code",
   "execution_count": 16,
   "metadata": {},
   "outputs": [],
   "source": [
    "import os\n",
    "for wav_file in wav_files_train:\n",
    "    orig_wav = wav_file\n",
    "    dest_wav = '/'.join(orig_wav.split('/')[:-1])+'/train/'+orig_wav.split('/')[-1]\n",
    "    orig_txt = orig_wav[:-3]+'txt'\n",
    "    dest_txt = '/'.join(orig_txt.split('/')[:-1])+'/train/'+orig_txt.split('/')[-1]\n",
    "    os.rename(orig_wav, dest_wav)\n",
    "    os.rename(orig_txt, dest_txt)"
   ]
  },
  {
   "cell_type": "code",
   "execution_count": 17,
   "metadata": {},
   "outputs": [],
   "source": [
    "for wav_file in wav_files_test:\n",
    "    orig_wav = wav_file\n",
    "    dest_wav = '/'.join(orig_wav.split('/')[:-1])+'/test/'+orig_wav.split('/')[-1]\n",
    "    orig_txt = orig_wav[:-3]+'txt'\n",
    "    dest_txt = '/'.join(orig_txt.split('/')[:-1])+'/test/'+orig_txt.split('/')[-1]\n",
    "    os.rename(orig_wav, dest_wav)\n",
    "    os.rename(orig_txt, dest_txt)"
   ]
  },
  {
   "cell_type": "code",
   "execution_count": 18,
   "metadata": {},
   "outputs": [],
   "source": [
    "for wav_file in wav_files_val:\n",
    "    orig_wav = wav_file\n",
    "    dest_wav = '/'.join(orig_wav.split('/')[:-1])+'/val/'+orig_wav.split('/')[-1]\n",
    "    orig_txt = orig_wav[:-3]+'txt'\n",
    "    dest_txt = '/'.join(orig_txt.split('/')[:-1])+'/val/'+orig_txt.split('/')[-1]\n",
    "    os.rename(orig_wav, dest_wav)\n",
    "    os.rename(orig_txt, dest_txt)"
   ]
  },
  {
   "cell_type": "code",
   "execution_count": 25,
   "metadata": {},
   "outputs": [
    {
     "name": "stdout",
     "output_type": "stream",
     "text": [
      "2657 2657\n"
     ]
    }
   ],
   "source": [
    "wav_files = glob.glob('./WhisperModel/ZCU_CZ_ATC/DATA/*/*.wav')\n",
    "txt_files = glob.glob('./WhisperModel/ZCU_CZ_ATC/DATA/*/*.txt')\n",
    "\n",
    "print(len(wav_files), len(txt_files))"
   ]
  },
  {
   "cell_type": "code",
   "execution_count": 28,
   "metadata": {},
   "outputs": [],
   "source": [
    "df = pd.DataFrame(columns=['file_name', 'text'])\n",
    "for file in wav_files:\n",
    "    i = wav_files.index(file)\n",
    "\n",
    "    with open(file[:-3]+'txt') as f:\n",
    "        text = f.read()\n",
    "\n",
    "    df.loc[i, 'file_name'] = '/'.join(file.split('/')[-2:])\n",
    "    df.loc[i, 'text'] = text\n",
    "    \n",
    "df.to_csv('./WhisperModel/ZCU_CZ_ATC/DATA/metadata.csv', index=False)"
   ]
  },
  {
   "cell_type": "code",
   "execution_count": 29,
   "metadata": {},
   "outputs": [
    {
     "data": {
      "text/html": [
       "<div>\n",
       "<style scoped>\n",
       "    .dataframe tbody tr th:only-of-type {\n",
       "        vertical-align: middle;\n",
       "    }\n",
       "\n",
       "    .dataframe tbody tr th {\n",
       "        vertical-align: top;\n",
       "    }\n",
       "\n",
       "    .dataframe thead th {\n",
       "        text-align: right;\n",
       "    }\n",
       "</style>\n",
       "<table border=\"1\" class=\"dataframe\">\n",
       "  <thead>\n",
       "    <tr style=\"text-align: right;\">\n",
       "      <th></th>\n",
       "      <th>file_name</th>\n",
       "      <th>text</th>\n",
       "    </tr>\n",
       "  </thead>\n",
       "  <tbody>\n",
       "    <tr>\n",
       "      <th>0</th>\n",
       "      <td>val/TWR-mbIQOx.wav</td>\n",
       "      <td>Skytravel 1 0 1 0 confirm ready for departure?...</td>\n",
       "    </tr>\n",
       "    <tr>\n",
       "      <th>1</th>\n",
       "      <td>val/APP-5aTgZQ.wav</td>\n",
       "      <td>Lufthansa 7 K K descend FL 9 0  K K descend l...</td>\n",
       "    </tr>\n",
       "    <tr>\n",
       "      <th>2</th>\n",
       "      <td>val/TWR-MgjO8P.wav</td>\n",
       "      <td>+zynÄ› tower Lot 5 2 6  dobrĂ˝ veÄŤer approac...</td>\n",
       "    </tr>\n",
       "    <tr>\n",
       "      <th>3</th>\n",
       "      <td>val/TWR-nLCO4H.wav</td>\n",
       "      <td>Contract R G RWY  clear to land 3 1 Contactr ...</td>\n",
       "    </tr>\n",
       "    <tr>\n",
       "      <th>4</th>\n",
       "      <td>val/ACCU-RXM6rs.wav</td>\n",
       "      <td>Lufthansa 1 4 9 2 climb to FL 3 4 0  Lufthans...</td>\n",
       "    </tr>\n",
       "    <tr>\n",
       "      <th>...</th>\n",
       "      <td>...</td>\n",
       "      <td>...</td>\n",
       "    </tr>\n",
       "    <tr>\n",
       "      <th>2652</th>\n",
       "      <td>train/TWR-pINehs.wav</td>\n",
       "      <td>CSA 9 2 6 ready for departure  CSA 9 2 6 roge...</td>\n",
       "    </tr>\n",
       "    <tr>\n",
       "      <th>2653</th>\n",
       "      <td>train/APP-K3EjsL.wav</td>\n",
       "      <td>Russia  1 2 Z high speed OK?   yes climb FL 1...</td>\n",
       "    </tr>\n",
       "    <tr>\n",
       "      <th>2654</th>\n",
       "      <td>train/APP-UkAljF.wav</td>\n",
       "      <td>German Wings 7 P turn left heading   3 4 0  G...</td>\n",
       "    </tr>\n",
       "    <tr>\n",
       "      <th>2655</th>\n",
       "      <td>train/APP-pnMGlr.wav</td>\n",
       "      <td>Praha approach CSA 9 2 7 dobrĂ˝ den passing  ...</td>\n",
       "    </tr>\n",
       "    <tr>\n",
       "      <th>2656</th>\n",
       "      <td>train/ACCU-sGOSdh.wav</td>\n",
       "      <td>Tuijet 4 1 6 continue present heading due tra...</td>\n",
       "    </tr>\n",
       "  </tbody>\n",
       "</table>\n",
       "<p>2657 rows × 2 columns</p>\n",
       "</div>"
      ],
      "text/plain": [
       "                  file_name                                               text\n",
       "0        val/TWR-mbIQOx.wav  Skytravel 1 0 1 0 confirm ready for departure?...\n",
       "1        val/APP-5aTgZQ.wav   Lufthansa 7 K K descend FL 9 0  K K descend l...\n",
       "2        val/TWR-MgjO8P.wav   +zynÄ› tower Lot 5 2 6  dobrĂ˝ veÄŤer approac...\n",
       "3        val/TWR-nLCO4H.wav   Contract R G RWY  clear to land 3 1 Contactr ...\n",
       "4       val/ACCU-RXM6rs.wav   Lufthansa 1 4 9 2 climb to FL 3 4 0  Lufthans...\n",
       "...                     ...                                                ...\n",
       "2652   train/TWR-pINehs.wav   CSA 9 2 6 ready for departure  CSA 9 2 6 roge...\n",
       "2653   train/APP-K3EjsL.wav   Russia  1 2 Z high speed OK?   yes climb FL 1...\n",
       "2654   train/APP-UkAljF.wav   German Wings 7 P turn left heading   3 4 0  G...\n",
       "2655   train/APP-pnMGlr.wav   Praha approach CSA 9 2 7 dobrĂ˝ den passing  ...\n",
       "2656  train/ACCU-sGOSdh.wav   Tuijet 4 1 6 continue present heading due tra...\n",
       "\n",
       "[2657 rows x 2 columns]"
      ]
     },
     "execution_count": 29,
     "metadata": {},
     "output_type": "execute_result"
    }
   ],
   "source": [
    "df"
   ]
  },
  {
   "attachments": {},
   "cell_type": "markdown",
   "metadata": {},
   "source": [
    "### Load Dataset"
   ]
  },
  {
   "cell_type": "code",
   "execution_count": 30,
   "metadata": {},
   "outputs": [
    {
     "data": {
      "application/vnd.jupyter.widget-view+json": {
       "model_id": "39532ca5d69f44f49ea7c664c53e03a8",
       "version_major": 2,
       "version_minor": 0
      },
      "text/plain": [
       "Resolving data files:   0%|          | 0/3984 [00:00<?, ?it/s]"
      ]
     },
     "metadata": {},
     "output_type": "display_data"
    },
    {
     "data": {
      "application/vnd.jupyter.widget-view+json": {
       "model_id": "c4aebc26348e43e48a32d275865abae9",
       "version_major": 2,
       "version_minor": 0
      },
      "text/plain": [
       "Resolving data files:   0%|          | 0/264 [00:00<?, ?it/s]"
      ]
     },
     "metadata": {},
     "output_type": "display_data"
    },
    {
     "data": {
      "application/vnd.jupyter.widget-view+json": {
       "model_id": "ec569840e08f4c1783e30b747db7ffd8",
       "version_major": 2,
       "version_minor": 0
      },
      "text/plain": [
       "Resolving data files:   0%|          | 0/1066 [00:00<?, ?it/s]"
      ]
     },
     "metadata": {},
     "output_type": "display_data"
    },
    {
     "name": "stdout",
     "output_type": "stream",
     "text": [
      "Downloading and preparing dataset audiofolder/default to /home/junzisun/.cache/huggingface/datasets/audiofolder/default-11753bce73d0436a/0.0.0/6cbdd16f8688354c63b4e2a36e1585d05de285023ee6443ffd71c4182055c0fc...\n"
     ]
    },
    {
     "data": {
      "application/vnd.jupyter.widget-view+json": {
       "model_id": "494cefb244cb468b950f9156868829e4",
       "version_major": 2,
       "version_minor": 0
      },
      "text/plain": [
       "Downloading data files:   0%|          | 0/1993 [00:00<?, ?it/s]"
      ]
     },
     "metadata": {},
     "output_type": "display_data"
    },
    {
     "data": {
      "application/vnd.jupyter.widget-view+json": {
       "model_id": "d5647fb1d6244120ae6e79d71aaef0c8",
       "version_major": 2,
       "version_minor": 0
      },
      "text/plain": [
       "Downloading data files:   0%|          | 0/1992 [00:00<?, ?it/s]"
      ]
     },
     "metadata": {},
     "output_type": "display_data"
    },
    {
     "data": {
      "application/vnd.jupyter.widget-view+json": {
       "model_id": "4d19af0a3c0a4d38ace9350951b157b4",
       "version_major": 2,
       "version_minor": 0
      },
      "text/plain": [
       "Extracting data files:   0%|          | 0/1992 [00:00<?, ?it/s]"
      ]
     },
     "metadata": {},
     "output_type": "display_data"
    },
    {
     "data": {
      "application/vnd.jupyter.widget-view+json": {
       "model_id": "fd79b79a388f4e5e99048cb22e1b6d95",
       "version_major": 2,
       "version_minor": 0
      },
      "text/plain": [
       "Downloading data files:   0%|          | 0/133 [00:00<?, ?it/s]"
      ]
     },
     "metadata": {},
     "output_type": "display_data"
    },
    {
     "data": {
      "application/vnd.jupyter.widget-view+json": {
       "model_id": "be5cb1d1ebb348ae81ccaf95b2679e78",
       "version_major": 2,
       "version_minor": 0
      },
      "text/plain": [
       "Downloading data files:   0%|          | 0/132 [00:00<?, ?it/s]"
      ]
     },
     "metadata": {},
     "output_type": "display_data"
    },
    {
     "data": {
      "application/vnd.jupyter.widget-view+json": {
       "model_id": "fe44c45f6dff475ba00c2ca9674607d3",
       "version_major": 2,
       "version_minor": 0
      },
      "text/plain": [
       "Extracting data files:   0%|          | 0/132 [00:00<?, ?it/s]"
      ]
     },
     "metadata": {},
     "output_type": "display_data"
    },
    {
     "data": {
      "application/vnd.jupyter.widget-view+json": {
       "model_id": "0212d7b30b7144bf9d49f3d645a488ec",
       "version_major": 2,
       "version_minor": 0
      },
      "text/plain": [
       "Downloading data files:   0%|          | 0/534 [00:00<?, ?it/s]"
      ]
     },
     "metadata": {},
     "output_type": "display_data"
    },
    {
     "data": {
      "application/vnd.jupyter.widget-view+json": {
       "model_id": "d5fb46275f074cada5f491ab26a0a3a2",
       "version_major": 2,
       "version_minor": 0
      },
      "text/plain": [
       "Downloading data files:   0%|          | 0/533 [00:00<?, ?it/s]"
      ]
     },
     "metadata": {},
     "output_type": "display_data"
    },
    {
     "data": {
      "application/vnd.jupyter.widget-view+json": {
       "model_id": "0e761211ef654befb7ec3c88e63fe814",
       "version_major": 2,
       "version_minor": 0
      },
      "text/plain": [
       "Extracting data files:   0%|          | 0/533 [00:00<?, ?it/s]"
      ]
     },
     "metadata": {},
     "output_type": "display_data"
    },
    {
     "data": {
      "application/vnd.jupyter.widget-view+json": {
       "model_id": "f9fd953dc43e4da596cbce247c565da3",
       "version_major": 2,
       "version_minor": 0
      },
      "text/plain": [
       "Generating train split: 0 examples [00:00, ? examples/s]"
      ]
     },
     "metadata": {},
     "output_type": "display_data"
    },
    {
     "data": {
      "application/vnd.jupyter.widget-view+json": {
       "model_id": "3373e2e5e91e4d25a789a067b59a972a",
       "version_major": 2,
       "version_minor": 0
      },
      "text/plain": [
       "Generating validation split: 0 examples [00:00, ? examples/s]"
      ]
     },
     "metadata": {},
     "output_type": "display_data"
    },
    {
     "data": {
      "application/vnd.jupyter.widget-view+json": {
       "model_id": "4b64ab8ed7d44a4582d15c562e4635ba",
       "version_major": 2,
       "version_minor": 0
      },
      "text/plain": [
       "Generating test split: 0 examples [00:00, ? examples/s]"
      ]
     },
     "metadata": {},
     "output_type": "display_data"
    },
    {
     "name": "stdout",
     "output_type": "stream",
     "text": [
      "Dataset audiofolder downloaded and prepared to /home/junzisun/.cache/huggingface/datasets/audiofolder/default-11753bce73d0436a/0.0.0/6cbdd16f8688354c63b4e2a36e1585d05de285023ee6443ffd71c4182055c0fc. Subsequent calls will reuse this data.\n"
     ]
    },
    {
     "data": {
      "application/vnd.jupyter.widget-view+json": {
       "model_id": "e2d98560818c4fea8fb6ae55f3d47d35",
       "version_major": 2,
       "version_minor": 0
      },
      "text/plain": [
       "  0%|          | 0/3 [00:00<?, ?it/s]"
      ]
     },
     "metadata": {},
     "output_type": "display_data"
    }
   ],
   "source": [
    "dataset = datasets.load_dataset(\"audiofolder\", data_dir = \"./WhisperModel/ZCU_CZ_ATC/DATA\")"
   ]
  },
  {
   "attachments": {},
   "cell_type": "markdown",
   "metadata": {},
   "source": [
    "### Push to Hub"
   ]
  },
  {
   "cell_type": "code",
   "execution_count": 31,
   "metadata": {},
   "outputs": [
    {
     "name": "stderr",
     "output_type": "stream",
     "text": [
      "Pushing split train to the Hub.\n"
     ]
    },
    {
     "data": {
      "application/vnd.jupyter.widget-view+json": {
       "model_id": "0598d6c972d444b98d34793b90d4712d",
       "version_major": 2,
       "version_minor": 0
      },
      "text/plain": [
       "Map:   0%|          | 0/996 [00:00<?, ? examples/s]"
      ]
     },
     "metadata": {},
     "output_type": "display_data"
    },
    {
     "data": {
      "application/vnd.jupyter.widget-view+json": {
       "model_id": "ea2bf405a9334dc2a89445307e9869c6",
       "version_major": 2,
       "version_minor": 0
      },
      "text/plain": [
       "Pushing dataset shards to the dataset hub:   0%|          | 0/2 [00:00<?, ?it/s]"
      ]
     },
     "metadata": {},
     "output_type": "display_data"
    },
    {
     "data": {
      "application/vnd.jupyter.widget-view+json": {
       "model_id": "4f513ca82e4a48e980f42f4eec5c0d2c",
       "version_major": 2,
       "version_minor": 0
      },
      "text/plain": [
       "Creating parquet from Arrow format:   0%|          | 0/1 [00:00<?, ?ba/s]"
      ]
     },
     "metadata": {},
     "output_type": "display_data"
    },
    {
     "data": {
      "application/vnd.jupyter.widget-view+json": {
       "model_id": "575caa4a11d544208b02338a7811b22d",
       "version_major": 2,
       "version_minor": 0
      },
      "text/plain": [
       "Upload 1 LFS files:   0%|          | 0/1 [00:00<?, ?it/s]"
      ]
     },
     "metadata": {},
     "output_type": "display_data"
    },
    {
     "data": {
      "application/vnd.jupyter.widget-view+json": {
       "model_id": "b15cbd764ec94b1d82167b32ae5ffafd",
       "version_major": 2,
       "version_minor": 0
      },
      "text/plain": [
       "Map:   0%|          | 0/996 [00:00<?, ? examples/s]"
      ]
     },
     "metadata": {},
     "output_type": "display_data"
    },
    {
     "data": {
      "application/vnd.jupyter.widget-view+json": {
       "model_id": "11c4e671034349cba5a0eee238c99f12",
       "version_major": 2,
       "version_minor": 0
      },
      "text/plain": [
       "Creating parquet from Arrow format:   0%|          | 0/1 [00:00<?, ?ba/s]"
      ]
     },
     "metadata": {},
     "output_type": "display_data"
    },
    {
     "data": {
      "application/vnd.jupyter.widget-view+json": {
       "model_id": "330b4efb655a4a409cd391e4636e22e7",
       "version_major": 2,
       "version_minor": 0
      },
      "text/plain": [
       "Upload 1 LFS files:   0%|          | 0/1 [00:00<?, ?it/s]"
      ]
     },
     "metadata": {},
     "output_type": "display_data"
    },
    {
     "data": {
      "application/vnd.jupyter.widget-view+json": {
       "model_id": "199ad294ecfe4f5b97204fefd6e8bad8",
       "version_major": 2,
       "version_minor": 0
      },
      "text/plain": [
       "Deleting unused files from dataset repository:   0%|          | 0/3 [00:00<?, ?it/s]"
      ]
     },
     "metadata": {},
     "output_type": "display_data"
    },
    {
     "name": "stderr",
     "output_type": "stream",
     "text": [
      "Pushing split validation to the Hub.\n"
     ]
    },
    {
     "data": {
      "application/vnd.jupyter.widget-view+json": {
       "model_id": "ea7037c3b7114121b8619033fd1b6fe8",
       "version_major": 2,
       "version_minor": 0
      },
      "text/plain": [
       "Map:   0%|          | 0/132 [00:00<?, ? examples/s]"
      ]
     },
     "metadata": {},
     "output_type": "display_data"
    },
    {
     "data": {
      "application/vnd.jupyter.widget-view+json": {
       "model_id": "7714aecd4de44addb88075efb5163088",
       "version_major": 2,
       "version_minor": 0
      },
      "text/plain": [
       "Pushing dataset shards to the dataset hub:   0%|          | 0/1 [00:00<?, ?it/s]"
      ]
     },
     "metadata": {},
     "output_type": "display_data"
    },
    {
     "data": {
      "application/vnd.jupyter.widget-view+json": {
       "model_id": "67fcb9cea80d4979a6343ccc930f9b3e",
       "version_major": 2,
       "version_minor": 0
      },
      "text/plain": [
       "Creating parquet from Arrow format:   0%|          | 0/1 [00:00<?, ?ba/s]"
      ]
     },
     "metadata": {},
     "output_type": "display_data"
    },
    {
     "data": {
      "application/vnd.jupyter.widget-view+json": {
       "model_id": "390cd9d87d604b23807d9200d76513a1",
       "version_major": 2,
       "version_minor": 0
      },
      "text/plain": [
       "Upload 1 LFS files:   0%|          | 0/1 [00:00<?, ?it/s]"
      ]
     },
     "metadata": {},
     "output_type": "display_data"
    },
    {
     "name": "stderr",
     "output_type": "stream",
     "text": [
      "Pushing split test to the Hub.\n"
     ]
    },
    {
     "data": {
      "application/vnd.jupyter.widget-view+json": {
       "model_id": "3e867db0d848497a8201159670bf7c7f",
       "version_major": 2,
       "version_minor": 0
      },
      "text/plain": [
       "Map:   0%|          | 0/533 [00:00<?, ? examples/s]"
      ]
     },
     "metadata": {},
     "output_type": "display_data"
    },
    {
     "data": {
      "application/vnd.jupyter.widget-view+json": {
       "model_id": "8c98409077f141d68b6f4193326797a6",
       "version_major": 2,
       "version_minor": 0
      },
      "text/plain": [
       "Pushing dataset shards to the dataset hub:   0%|          | 0/1 [00:00<?, ?it/s]"
      ]
     },
     "metadata": {},
     "output_type": "display_data"
    },
    {
     "data": {
      "application/vnd.jupyter.widget-view+json": {
       "model_id": "b14d7f9a52034e88a8605fce26331f15",
       "version_major": 2,
       "version_minor": 0
      },
      "text/plain": [
       "Creating parquet from Arrow format:   0%|          | 0/1 [00:00<?, ?ba/s]"
      ]
     },
     "metadata": {},
     "output_type": "display_data"
    },
    {
     "data": {
      "application/vnd.jupyter.widget-view+json": {
       "model_id": "a6b0333674ed43188b7f768de9e63e5b",
       "version_major": 2,
       "version_minor": 0
      },
      "text/plain": [
       "Upload 1 LFS files:   0%|          | 0/1 [00:00<?, ?it/s]"
      ]
     },
     "metadata": {},
     "output_type": "display_data"
    },
    {
     "data": {
      "application/vnd.jupyter.widget-view+json": {
       "model_id": "da3abb6c40a349598afd982221727f33",
       "version_major": 2,
       "version_minor": 0
      },
      "text/plain": [
       "Downloading metadata:   0%|          | 0.00/401 [00:00<?, ?B/s]"
      ]
     },
     "metadata": {},
     "output_type": "display_data"
    }
   ],
   "source": [
    "dataset.push_to_hub('jlvdoorn/zcu-cz-atc')"
   ]
  },
  {
   "cell_type": "code",
   "execution_count": 36,
   "metadata": {},
   "outputs": [
    {
     "data": {
      "text/plain": [
       "{'audio': {'path': '/scratch/junzisun/whisper/WhisperModel/ZCU_CZ_ATC/DATA/train/ACCU-0CUxlz.wav',\n",
       "  'array': array([ 0.00036621,  0.00036621, -0.00036621, ...,  0.        ,\n",
       "          0.        ,  0.        ]),\n",
       "  'sampling_rate': 8000},\n",
       " 'text': 'Lufthansa 7 3 9 Praha Lufthansa 7 3 9  radio descending down level 3 5 0 good afternoon Lufthansa 7 3 9 Praha radar contact descend FL 3 0 0 level by RAPET Lufthansa 7 3 9 descending FL 3 0 0 level  '}"
      ]
     },
     "execution_count": 36,
     "metadata": {},
     "output_type": "execute_result"
    }
   ],
   "source": [
    "dataset['train'][0]"
   ]
  },
  {
   "cell_type": "code",
   "execution_count": 37,
   "metadata": {},
   "outputs": [
    {
     "data": {
      "text/plain": [
       "{'audio': {'path': '/scratch/junzisun/whisper/WhisperModel/ZCU_CZ_ATC/DATA/val/ACCU-1AL1gO.wav',\n",
       "  'array': array([ 0.00036621, -0.00036621,  0.00036621, ...,  0.        ,\n",
       "          0.        ,  0.        ]),\n",
       "  'sampling_rate': 8000},\n",
       " 'text': 'Singapure 3 2 5 Praha climb to flight level 3 3 0  climb flight level 3 3 0 Singapore 3 2 5 Praha Radar dobrĂ˝ veÄŤer Wizzair 4 C B de+ 7 0 3 Wizzair 4 C B Praha Radar good evening radar contact '}"
      ]
     },
     "execution_count": 37,
     "metadata": {},
     "output_type": "execute_result"
    }
   ],
   "source": [
    "dataset['validation'][0]"
   ]
  },
  {
   "cell_type": "code",
   "execution_count": 38,
   "metadata": {},
   "outputs": [
    {
     "data": {
      "text/plain": [
       "{'audio': {'path': '/scratch/junzisun/whisper/WhisperModel/ZCU_CZ_ATC/DATA/test/ACCU-07R4Pv.wav',\n",
       "  'array': array([0.00036621, 0.00036621, 0.00036621, ..., 0.        , 0.        ,\n",
       "         0.        ]),\n",
       "  'sampling_rate': 8000},\n",
       " 'text': 'Lufthansa 4 J A contact Munich 1 3 2 point 5 5 0 good bye Lufthansa 4 J A 1 3 2 . see you later (Praha(PrĂˇg))2 7 (9(najn)) H hello can you just confirm the frequency please1 2 7 . 4 2 5 ok we try again on 1 2 7 . 4 2 5 until we get no reply for the moment thank you radar Wizzair 4 good morning climbin+ Wizzair 4 P R Praha hello radar contact squawk 1 4 7 1 climb FL 3 4 0 climb FL Wizzair 4  to FL 2  Contract 8 T W Praha hello radar contact direct LAGAR direct LAGAR climb flight 8  7 (9(najn)) H Bratislava 1 3 4 . 4 7 5 Praha hello radar good morning  8 0 1 6 passing level 1 0 0 climb FL 2 4 0 inbound to LANUX Niki 8 0 1 6 Praha hello radar contact 7 (9(najn)) H Praha yeah  7 (9(najn)) H we got a radio no reply on 1 2 7 4 2 5 yeah right frequency is 1 3 4 4 7 5 bye bye 1 3 4 4 7 5 bye bye  Condor 0 4 2 direct to ODNEM Condor 0 4 2 from current position direct to ODNEM Niki 8 0 1 6 climb FL 3 4 0 climb FL 3 4 0 Niki 8 0 1 6 '}"
      ]
     },
     "execution_count": 38,
     "metadata": {},
     "output_type": "execute_result"
    }
   ],
   "source": [
    "dataset['test'][0]"
   ]
  }
 ],
 "metadata": {
  "kernelspec": {
   "display_name": "Python 3 (ipykernel)",
   "language": "python",
   "name": "python3"
  },
  "language_info": {
   "codemirror_mode": {
    "name": "ipython",
    "version": 3
   },
   "file_extension": ".py",
   "mimetype": "text/x-python",
   "name": "python",
   "nbconvert_exporter": "python",
   "pygments_lexer": "ipython3",
   "version": "3.10.10"
  },
  "orig_nbformat": 4
 },
 "nbformat": 4,
 "nbformat_minor": 2
}
