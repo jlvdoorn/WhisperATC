{
 "cells": [
  {
   "attachments": {},
   "cell_type": "markdown",
   "id": "0c2bdb38-5743-4cc0-bf54-34a1e4edaca9",
   "metadata": {},
   "source": [
    "# Whisper Prompts Testing"
   ]
  },
  {
   "attachments": {},
   "cell_type": "markdown",
   "id": "45cef29a",
   "metadata": {},
   "source": [
    "### Initializing"
   ]
  },
  {
   "cell_type": "code",
   "execution_count": 1,
   "id": "b4d59f34",
   "metadata": {},
   "outputs": [],
   "source": [
    "import os\n",
    "import re\n",
    "import glob"
   ]
  },
  {
   "cell_type": "code",
   "execution_count": 2,
   "id": "995414ff-f33d-4669-8f0d-722ceed674df",
   "metadata": {},
   "outputs": [
    {
     "name": "stderr",
     "output_type": "stream",
     "text": [
      "/scratch/junzisun/env/jan/lib/python3.10/site-packages/whisper/timing.py:58: NumbaDeprecationWarning: \u001b[1mThe 'nopython' keyword argument was not supplied to the 'numba.jit' decorator. The implicit default value for this argument is currently False, but it will be changed to True in Numba 0.59.0. See https://numba.readthedocs.io/en/stable/reference/deprecation.html#deprecation-of-object-mode-fall-back-behaviour-when-using-jit for details.\u001b[0m\n",
      "  def backtrace(trace: np.ndarray):\n"
     ]
    }
   ],
   "source": [
    "import whisper\n",
    "import pandas as pd"
   ]
  },
  {
   "cell_type": "code",
   "execution_count": 3,
   "id": "6c8cb60d-1c90-4657-a13d-b17b6cc8baf3",
   "metadata": {},
   "outputs": [],
   "source": [
    "model = whisper.load_model('large-v2')"
   ]
  },
  {
   "attachments": {},
   "cell_type": "markdown",
   "id": "f4acd624-e2bc-410b-a2f3-1e7497d6179d",
   "metadata": {},
   "source": [
    "### Reading WAV and TXT files"
   ]
  },
  {
   "cell_type": "code",
   "execution_count": 40,
   "id": "04ce3e9d-ab2a-4e0c-8668-a77649691323",
   "metadata": {},
   "outputs": [
    {
     "name": "stdout",
     "output_type": "stream",
     "text": [
      "['./WhisperModel/ATCO2-ASR/DATA/LKPR_RUZYNE_Radar_120_520MHz_20201025_091112.wav', './WhisperModel/ATCO2-ASR/DATA/LKPR_RUZYNE_Radar_120_520MHz_20201025_120512.wav', './WhisperModel/ATCO2-ASR/DATA/LKPR_RUZYNE_Radar_120_520MHz_20201025_121325.wav', './WhisperModel/ATCO2-ASR/DATA/LKPR_RUZYNE_Radar_120_520MHz_20201025_130407.wav', './WhisperModel/ATCO2-ASR/DATA/LKPR_RUZYNE_Radar_120_520MHz_20201025_140929.wav']\n",
      "['./WhisperModel/ATCO2-ASR/DATA/LKPR_RUZYNE_Radar_120_520MHz_20201025_091112.txt', './WhisperModel/ATCO2-ASR/DATA/LKPR_RUZYNE_Radar_120_520MHz_20201025_120512.txt', './WhisperModel/ATCO2-ASR/DATA/LKPR_RUZYNE_Radar_120_520MHz_20201025_121325.txt', './WhisperModel/ATCO2-ASR/DATA/LKPR_RUZYNE_Radar_120_520MHz_20201025_130407.txt', './WhisperModel/ATCO2-ASR/DATA/LKPR_RUZYNE_Radar_120_520MHz_20201025_140929.txt']\n",
      "['./WhisperModel/ATCOSIM/WAVdata/gf1/gf1_01/gf1_01_001.wav', './WhisperModel/ATCOSIM/WAVdata/gf1/gf1_01/gf1_01_002.wav', './WhisperModel/ATCOSIM/WAVdata/gf1/gf1_01/gf1_01_003.wav', './WhisperModel/ATCOSIM/WAVdata/gf1/gf1_01/gf1_01_004.wav', './WhisperModel/ATCOSIM/WAVdata/gf1/gf1_01/gf1_01_005.wav']\n",
      "['./WhisperModel/ATCOSIM/TXTdata/gf1/gf1_01/gf1_01_001.filtered.txt', './WhisperModel/ATCOSIM/TXTdata/gf1/gf1_01/gf1_01_002.filtered.txt', './WhisperModel/ATCOSIM/TXTdata/gf1/gf1_01/gf1_01_003.filtered.txt', './WhisperModel/ATCOSIM/TXTdata/gf1/gf1_01/gf1_01_004.filtered.txt', './WhisperModel/ATCOSIM/TXTdata/gf1/gf1_01/gf1_01_005.filtered.txt']\n",
      "[]\n",
      "[]\n"
     ]
    }
   ],
   "source": [
    "# WAV files\n",
    "first_file = 0\n",
    "num_files = 5\n",
    "\n",
    "last_file = first_file+num_files\n",
    "\n",
    "wav_atco2_asr = glob.glob('./WhisperModel/ATCO2-ASR/DATA/*.wav')\n",
    "wav_atco2_asr.sort()\n",
    "wav_atco2_asr = wav_atco2_asr[first_file:last_file]\n",
    "\n",
    "wav_atcosim   = glob.glob('./WhisperModel/ATCOSIM/WAVdata/*/*/*.wav')\n",
    "wav_atcosim.sort()\n",
    "wav_atcosim = wav_atcosim[first_file:last_file]\n",
    "\n",
    "wav_zcu       = glob.glob('./WhisperModel/ZCU_CZ_ATC/*.wav')\n",
    "wav_zcu.sort()\n",
    "wav_zcu = wav_zcu[first_file:last_file]\n",
    "\n",
    "# Transcripts\n",
    "trs_atco2_asr = glob.glob('./WhisperModel/ATCO2-ASR/DATA/*.txt')\n",
    "trs_atco2_asr.sort()\n",
    "trs_atco2_asr = trs_atco2_asr[first_file:last_file]\n",
    "\n",
    "trs_atcosim   = glob.glob('./WhisperModel/ATCOSIM/TXTdata/*/*/*.filtered.txt')\n",
    "trs_atcosim.sort()\n",
    "trs_atcosim = trs_atcosim[first_file:last_file]\n",
    "\n",
    "trs_zcu       = glob.glob('./WhisperModel/ZCU_CZ_ATC/*.txt')\n",
    "trs_zcu.sort()\n",
    "trs_zcu = trs_zcu[first_file:last_file]\n",
    "\n",
    "# Print out to make sure the audio and text files match\n",
    "print(wav_atco2_asr)\n",
    "print(trs_atco2_asr)\n",
    "\n",
    "print(wav_atcosim)\n",
    "print(trs_atcosim)\n",
    "\n",
    "print(wav_zcu)\n",
    "print(trs_zcu)"
   ]
  },
  {
   "attachments": {},
   "cell_type": "markdown",
   "id": "8336f23f-9526-4ae3-9ddb-299dcf8b0887",
   "metadata": {},
   "source": [
    "### Setting up the prompts"
   ]
  },
  {
   "cell_type": "code",
   "execution_count": 41,
   "id": "f501cd87-b1ba-4dc9-acd1-49ba2f17ab0b",
   "metadata": {},
   "outputs": [
    {
     "name": "stdout",
     "output_type": "stream",
     "text": [
      "Air Traffic Control communications Ryanair, Eurowings Baltu Praha radar, Prague, Praha alpha,bravo,charlie,delta,echo,foxtrot,golf,hotel,india,juliett,kilo,lima,mike,november,oscar,papa,quebec,romeo,sierra,tango,uniform,victor,whiskey,xray,yankee,zulu climb, climbing, descend, descending, passing, feet, knots, degrees, direct, maintain, identified, ILS, VFR, IFR, contact, frequency, turn, right, left, heading, altitude, flight, level, cleared, squawk, approach, runway, established, report, affirm, negative, wilco, roger, radio, radar\n",
      "Air Traffic Control communications Swissair, Cross Air, Luxair, Lufthansa  Geneva, Marseille, Kines Saint Prex, Willisau, Torino, Passeiry alpha,bravo,charlie,delta,echo,foxtrot,golf,hotel,india,juliett,kilo,lima,mike,november,oscar,papa,quebec,romeo,sierra,tango,uniform,victor,whiskey,xray,yankee,zulu climb, climbing, descend, descending, passing, feet, knots, degrees, direct, maintain, identified, ILS, VFR, IFR, contact, frequency, turn, right, left, heading, altitude, flight, level, cleared, squawk, approach, runway, established, report, affirm, negative, wilco, roger, radio, radar\n",
      "Air Traffic Control communications Lufthansa, Wizzair, Niki, Condor, Aeroflot, Malaysian, Scandinavian Lanux, Odnem, Rapet, Pemur, Lagar Munich, Rhein, Bratislava, Prague, Praha alpha,bravo,charlie,delta,echo,foxtrot,golf,hotel,india,juliett,kilo,lima,mike,november,oscar,papa,quebec,romeo,sierra,tango,uniform,victor,whiskey,xray,yankee,zulu climb, climbing, descend, descending, passing, feet, knots, degrees, direct, maintain, identified, ILS, VFR, IFR, contact, frequency, turn, right, left, heading, altitude, flight, level, cleared, squawk, approach, runway, established, report, affirm, negative, wilco, roger, radio, radar\n"
     ]
    }
   ],
   "source": [
    "prompt_general = \"Air Traffic Control communications\"\n",
    "\n",
    "airlines_atco2 = \"Ryanair, Eurowings\"\n",
    "airlines_atcosim = \"Swissair, Cross Air, Luxair, Lufthansa\"\n",
    "airlines_zcu = \"Lufthansa, Wizzair, Niki, Condor, Aeroflot, Malaysian, Scandinavian\"\n",
    "airlines = airlines_atco2 + \", \" + airlines_atcosim + \", \" + airlines_zcu\n",
    "\n",
    "waypoints_atco2 = \"Baltu\"\n",
    "waypoints_atcosim = \"\"\n",
    "waypoints_zcu = \"Lanux, Odnem, Rapet, Pemur, Lagar\"\n",
    "waypoints = waypoints_atco2 + \", \" + waypoints_atcosim + \", \" + waypoints_zcu\n",
    "\n",
    "entities_atco2 = \"Praha radar, Prague, Praha\"\n",
    "entities_atcosim = \"Geneva, Marseille, Kines Saint Prex, Willisau, Torino, Passeiry\"\n",
    "entities_zcu = \"Munich, Rhein, Bratislava, Prague, Praha\"\n",
    "entities = entities_atco2 + \", \" + entities_atcosim + \", \" + entities_zcu\n",
    "\n",
    "nato = \"alpha,bravo,charlie,delta,echo,foxtrot,golf,hotel,india,juliett,kilo,lima,mike,november,oscar,papa,quebec,romeo,sierra,tango,uniform,victor,whiskey,xray,yankee,zulu\"\n",
    "terminology = \"climb, climbing, descend, descending, passing, feet, knots, degrees, direct, maintain, identified, ILS, VFR, IFR, contact, frequency, turn, right, left, heading, altitude, flight, level, cleared, squawk, approach, runway, established, report, affirm, negative, wilco, roger, radio, radar\"\n",
    "\n",
    "prompt_atco2_asr = prompt_general + \" \" + airlines_atco2 + \" \" + waypoints_atco2 + \" \" + entities_atco2 + \" \" + nato + \" \" + terminology\n",
    "prompt_atcosim = prompt_general + \" \" + airlines_atcosim + \" \" + waypoints_atcosim + \" \" + entities_atcosim + \" \" + nato + \" \" + terminology\n",
    "prompt_zcu = prompt_general + \" \" + airlines_zcu + \" \" + waypoints_zcu + \" \" + entities_zcu + \" \" + nato + \" \" + terminology\n",
    "\n",
    "# prompt = prompt_general + \" \" + airlines + \" \" + waypoints + \" \" + entities + \" \" + nato + \" \" + terminology\n",
    "# prompt_atco2_asr = prompt\n",
    "# prompt_atcosim = prompt\n",
    "# prompt_zcu = prompt\n",
    "\n",
    "print(prompt_atco2_asr)\n",
    "print(prompt_atcosim)\n",
    "print(prompt_zcu)"
   ]
  },
  {
   "attachments": {},
   "cell_type": "markdown",
   "id": "f06b8a2a-28d4-48f4-ad9d-8fb055cec31d",
   "metadata": {},
   "source": [
    "### Running Whisper on the files, W/ and W/O prompt"
   ]
  },
  {
   "attachments": {},
   "cell_type": "markdown",
   "id": "cf285085-f6b4-4c5d-ac86-6e88a59bbc0f",
   "metadata": {},
   "source": [
    "#### ATCO2 - ASR"
   ]
  },
  {
   "cell_type": "code",
   "execution_count": null,
   "id": "3667947f-a668-45d9-a538-69fe15bd5978",
   "metadata": {
    "scrolled": true
   },
   "outputs": [
    {
     "name": "stdout",
     "output_type": "stream",
     "text": [
      "ATCO2 - ASR\n"
     ]
    },
    {
     "name": "stderr",
     "output_type": "stream",
     "text": [
      "/scratch/junzisun/env/jan/lib/python3.10/site-packages/whisper/transcribe.py:114: UserWarning: FP16 is not supported on CPU; using FP32 instead\n",
      "  warnings.warn(\"FP16 is not supported on CPU; using FP32 instead\")\n",
      "/scratch/junzisun/env/jan/lib/python3.10/site-packages/whisper/transcribe.py:114: UserWarning: FP16 is not supported on CPU; using FP32 instead\n",
      "  warnings.warn(\"FP16 is not supported on CPU; using FP32 instead\")\n"
     ]
    },
    {
     "name": "stdout",
     "output_type": "stream",
     "text": [
      "Whisper: Oscar Kilo Papa Mike Bravo, descend FL100 Descend FL100, Oscar Kilo Papa Mike Bravo\n",
      "Correct: Oscar Kilo Papa Mike Bravo descend flight level one hundred level one hundred Oscar Kilo Papa Mike Bravo \n"
     ]
    },
    {
     "name": "stderr",
     "output_type": "stream",
     "text": [
      "/scratch/junzisun/env/jan/lib/python3.10/site-packages/whisper/transcribe.py:114: UserWarning: FP16 is not supported on CPU; using FP32 instead\n",
      "  warnings.warn(\"FP16 is not supported on CPU; using FP32 instead\")\n",
      "/scratch/junzisun/env/jan/lib/python3.10/site-packages/whisper/transcribe.py:114: UserWarning: FP16 is not supported on CPU; using FP32 instead\n",
      "  warnings.warn(\"FP16 is not supported on CPU; using FP32 instead\")\n"
     ]
    },
    {
     "name": "stdout",
     "output_type": "stream",
     "text": [
      "Whisper: OSCQA, QNH 100, IFR flight starts now, time 05, cleared to destination via FL10R\n",
      "Correct: Oscar Kilo Kilo Echo Alfa Praha Radar identified climb flight level one hundred IFR flight starts [hes] now time zero five cleared to destination via flight plan route \n"
     ]
    },
    {
     "name": "stderr",
     "output_type": "stream",
     "text": [
      "/scratch/junzisun/env/jan/lib/python3.10/site-packages/whisper/transcribe.py:114: UserWarning: FP16 is not supported on CPU; using FP32 instead\n",
      "  warnings.warn(\"FP16 is not supported on CPU; using FP32 instead\")\n",
      "/scratch/junzisun/env/jan/lib/python3.10/site-packages/whisper/transcribe.py:114: UserWarning: FP16 is not supported on CPU; using FP32 instead\n",
      "  warnings.warn(\"FP16 is not supported on CPU; using FP32 instead\")\n"
     ]
    },
    {
     "name": "stdout",
     "output_type": "stream",
     "text": [
      "Whisper: Ryanair 730H turn left heading 360 Go Ryanair 730H\n",
      "Correct: Ryanair Seven Three Alpha Hotel turn left heading three six zero Ryanair Seven Three Alpha Hotel \n"
     ]
    },
    {
     "name": "stderr",
     "output_type": "stream",
     "text": [
      "/scratch/junzisun/env/jan/lib/python3.10/site-packages/whisper/transcribe.py:114: UserWarning: FP16 is not supported on CPU; using FP32 instead\n",
      "  warnings.warn(\"FP16 is not supported on CPU; using FP32 instead\")\n",
      "/scratch/junzisun/env/jan/lib/python3.10/site-packages/whisper/transcribe.py:114: UserWarning: FP16 is not supported on CPU; using FP32 instead\n",
      "  warnings.warn(\"FP16 is not supported on CPU; using FP32 instead\")\n"
     ]
    },
    {
     "name": "stdout",
     "output_type": "stream",
     "text": [
      "Whisper: Oskar, Kilo Kilo Info, November, proceed direct BALTU. Proceed direct BALTU, Oskar, Kilo Kilo Info, November.\n",
      "Correct: Oscar Kilo Kilo Uniform November proceed direct Baltu proceed direct Baltu Oscar Kilo Kilo Uniform November \n"
     ]
    },
    {
     "name": "stderr",
     "output_type": "stream",
     "text": [
      "/scratch/junzisun/env/jan/lib/python3.10/site-packages/whisper/transcribe.py:114: UserWarning: FP16 is not supported on CPU; using FP32 instead\n",
      "  warnings.warn(\"FP16 is not supported on CPU; using FP32 instead\")\n",
      "/scratch/junzisun/env/jan/lib/python3.10/site-packages/whisper/transcribe.py:114: UserWarning: FP16 is not supported on CPU; using FP32 instead\n",
      "  warnings.warn(\"FP16 is not supported on CPU; using FP32 instead\")\n"
     ]
    },
    {
     "name": "stdout",
     "output_type": "stream",
     "text": [
      "Whisper: EW7AB, turn right heading 210, cleared ILS approach runway 24, report established. James 210, cleared for the ILS 24, report established, EW7AB.\n",
      "Correct: Eurowings Seven Alfa Bravo turn right heading two one zero cleared ILS approach runway two four report established heading(-ding) [hes] two one zero cleared for the ILS two four report established Eurowings Seven Alpha Bravo \n"
     ]
    }
   ],
   "source": [
    "result_prompt_atco2_asr = []\n",
    "result_clean_atco2_asr = []\n",
    "correct_atco2_asr = []\n",
    "\n",
    "print('ATCO2 - ASR')\n",
    "for i in range(len(wav_atco2_asr)):\n",
    "    result = model.transcribe(wav_atco2_asr[i], initial_prompt=prompt_atco2_asr, language='en')\n",
    "    result_prompt_atco2_asr.append(result['text'])\n",
    "\n",
    "    result = model.transcribe(wav_atco2_asr[i], language='en')\n",
    "    result_clean_atco2_asr.append(result['text'])\n",
    "    \n",
    "    with open(trs_atco2_asr[i], 'r') as f:\n",
    "        correct = f.read()\n",
    "        correct_atco2_asr.append(correct)\n",
    "    print('Whisper:'+result['text'])\n",
    "    print('Correct: '+correct)"
   ]
  },
  {
   "attachments": {},
   "cell_type": "markdown",
   "id": "cc2c9803-c9ea-4e17-b632-a9e61363391b",
   "metadata": {},
   "source": [
    "#### ATCOSIM"
   ]
  },
  {
   "cell_type": "code",
   "execution_count": 42,
   "id": "9b4e15e9-9f51-4a06-88b0-f5cc88488d78",
   "metadata": {
    "scrolled": true
   },
   "outputs": [
    {
     "name": "stdout",
     "output_type": "stream",
     "text": [
      "ATCOSIM\n",
      "Whisper: G-C Geneva 128.15, goodbye.\n",
      "Correct:  contact geneva one two eight decimal one five good bye \n",
      "Whisper: Sucerne 660R contact Marseille 125.85, goodbye.\n",
      "Correct: swissair six six zero romeo contact marseille one two five decimal eight five good bye \n",
      "Whisper: Crossfire 512, bonjour, Identified, cleared QNH 100, privileged off, flight level 300.\n",
      "Correct: cross air five one two bonjour identified cleared kines st prex willisau flight level three zero zero \n",
      "Whisper: Bonjour, Luxair 551 identified, cleared to pass through Torino, FL330.\n",
      "Correct: bonjour luxair five five one identified cleared passeiry torino flight level three three zero \n",
      "Whisper: Lufthansa 4723 resume on navigation to Vélizard\n",
      "Correct: lufthansa four seven two three resume own navigation to willisau \n"
     ]
    }
   ],
   "source": [
    "result_prompt_atcosim = []\n",
    "result_clean_atcosim = []\n",
    "correct_atcosim = []\n",
    "\n",
    "print('ATCOSIM')\n",
    "for i in range(len(wav_atcosim)):\n",
    "    result = model.transcribe(wav_atcosim[i], initial_prompt=prompt_atcosim, language='en')\n",
    "    result_prompt_atcosim.append(result['text'])\n",
    "\n",
    "    result = model.transcribe(wav_atcosim[i], language='en')\n",
    "    result_clean_atcosim.append(result['text'])\n",
    "    \n",
    "    with open(trs_atcosim[i], 'r') as f:\n",
    "        correct = f.read()\n",
    "        correct_atcosim.append(correct)\n",
    "    print('Whisper:'+result['text'])\n",
    "    print('Correct: '+correct)\n"
   ]
  },
  {
   "attachments": {},
   "cell_type": "markdown",
   "id": "1bc76527-1868-4631-9791-1a2ff868a918",
   "metadata": {},
   "source": [
    "#### ZCU"
   ]
  },
  {
   "cell_type": "code",
   "execution_count": null,
   "id": "11b4ceea-8a38-4f06-acb1-b12b848b72e3",
   "metadata": {
    "scrolled": true
   },
   "outputs": [
    {
     "name": "stdout",
     "output_type": "stream",
     "text": [
      "ZCU\n"
     ]
    },
    {
     "name": "stderr",
     "output_type": "stream",
     "text": [
      "/scratch/junzisun/env/jan/lib/python3.10/site-packages/whisper/transcribe.py:114: UserWarning: FP16 is not supported on CPU; using FP32 instead\n",
      "  warnings.warn(\"FP16 is not supported on CPU; using FP32 instead\")\n",
      "/scratch/junzisun/env/jan/lib/python3.10/site-packages/whisper/transcribe.py:114: UserWarning: FP16 is not supported on CPU; using FP32 instead\n",
      "  warnings.warn(\"FP16 is not supported on CPU; using FP32 instead\")\n"
     ]
    },
    {
     "name": "stdout",
     "output_type": "stream",
     "text": [
      "Whisper: Lufthansa 4JAL, contact Munich 132.550, good bye. Lufthansa 4JAL, 132.550, see you later, thank you and good bye. Praha, QNH 827, are you there? Go. Yeah, just confirm the frequency please. 127.425 Okay, we try again on 127.425 but we get no reply for the moment, but we try again, thank you. Praha radar, WZPR, good morning, climbing FL240, 223. WZPR, Praha radar, contact squawk 1471, climb FL340. Squawk 1471, climb FL340, WZPR. Praha radar, good morning, contact 8TW, FL230, direct OSCE, KDAG. Contact 8TW, Praha radar, contact direct LK. Direct LK, contact 8TW. QNH 79, WZPR, 134.475. Praha radar, good morning, N8016, passing FL170, climb FL240, inbound to Lanox. N8016, Praha radar, contact. QNH 79, Praha. Yeah, QNH 79, we get with you no reply on 127.425. Yeah, right, frequency is 134.475, bye bye. 134.475, bye bye, QNH 79. Condor 042, direct to Odenham. Condor 042, present position direct to Odenham. Odenham. N8016, climb FL340. Climb FL340, N8016.\n",
      "Correct: Lufthansa 4 J A contact Munich 1 3 2 point 5 5 0 good bye Lufthansa 4 J A 1 3 2 . see you later (Praha(PrĂˇg))2 7 (9(najn)) H hello can you just confirm the frequency please1 2 7 . 4 2 5 ok we try again on 1 2 7 . 4 2 5 until we get no reply for the moment thank you radar Wizzair 4 good morning climbin+ Wizzair 4 P R Praha hello radar contact squawk 1 4 7 1 climb FL 3 4 0 climb FL Wizzair 4  to FL 2  Contract 8 T W Praha hello radar contact direct LAGAR direct LAGAR climb flight 8  7 (9(najn)) H Bratislava 1 3 4 . 4 7 5 Praha hello radar good morning  8 0 1 6 passing level 1 0 0 climb FL 2 4 0 inbound to LANUX Niki 8 0 1 6 Praha hello radar contact 7 (9(najn)) H Praha yeah  7 (9(najn)) H we got a radio no reply on 1 2 7 4 2 5 yeah right frequency is 1 3 4 4 7 5 bye bye 1 3 4 4 7 5 bye bye  Condor 0 4 2 direct to ODNEM Condor 0 4 2 from current position direct to ODNEM Niki 8 0 1 6 climb FL 3 4 0 climb FL 3 4 0 Niki 8 0 1 6 \n"
     ]
    },
    {
     "name": "stderr",
     "output_type": "stream",
     "text": [
      "/scratch/junzisun/env/jan/lib/python3.10/site-packages/whisper/transcribe.py:114: UserWarning: FP16 is not supported on CPU; using FP32 instead\n",
      "  warnings.warn(\"FP16 is not supported on CPU; using FP32 instead\")\n",
      "/scratch/junzisun/env/jan/lib/python3.10/site-packages/whisper/transcribe.py:114: UserWarning: FP16 is not supported on CPU; using FP32 instead\n",
      "  warnings.warn(\"FP16 is not supported on CPU; using FP32 instead\")\n"
     ]
    },
    {
     "name": "stdout",
     "output_type": "stream",
     "text": [
      "Whisper: Lufthansa 739 Praha? Lufthansa 739 just with you, descending down level 350. Good afternoon Lufthansa 739 Praha, radar contact, descend FL300, level by rapid. Lufthansa 739 descending FL300, level, laser to carpet.\n",
      "Correct: Lufthansa 7 3 9 Praha Lufthansa 7 3 9  radio descending down level 3 5 0 good afternoon Lufthansa 7 3 9 Praha radar contact descend FL 3 0 0 level by RAPET Lufthansa 7 3 9 descending FL 3 0 0 level  \n"
     ]
    },
    {
     "name": "stderr",
     "output_type": "stream",
     "text": [
      "/scratch/junzisun/env/jan/lib/python3.10/site-packages/whisper/transcribe.py:114: UserWarning: FP16 is not supported on CPU; using FP32 instead\n",
      "  warnings.warn(\"FP16 is not supported on CPU; using FP32 instead\")\n",
      "/scratch/junzisun/env/jan/lib/python3.10/site-packages/whisper/transcribe.py:114: UserWarning: FP16 is not supported on CPU; using FP32 instead\n",
      "  warnings.warn(\"FP16 is not supported on CPU; using FP32 instead\")\n"
     ]
    },
    {
     "name": "stdout",
     "output_type": "stream",
     "text": [
      "Whisper: Radar, Aerofort 122, good afternoon, passing FL268 for FL280. Aerofort 122, hello, radar contact proceed direct TEMUR, climb to FL310. Climb to FL310, clear to direct TEMUR, Aerofort 122. Aerofort 122, hello, radar contact, maintain FL330. Climb to FL330, Malaysian 21.\n",
      "Correct: Radar Aeroflot 1 2 2 good afternoon passing FL 2 8 climb FL 2 8 0 Aeroflot 1 2 2 hello radar contact proceed to PEMUR climb to FL 3 1 0 climbing level 3 1 0 cleared to direct PEMUR Aeroflot 1 2 2 Praha good afternoon Malaysian 2 1 FL 3 3 0 squawking 0 6 4 7 Malaysian 2 1 hello radar contact maintain FL 3 3 0 level 3 3 0 Malaysian 2 1 \n"
     ]
    },
    {
     "name": "stderr",
     "output_type": "stream",
     "text": [
      "/scratch/junzisun/env/jan/lib/python3.10/site-packages/whisper/transcribe.py:114: UserWarning: FP16 is not supported on CPU; using FP32 instead\n",
      "  warnings.warn(\"FP16 is not supported on CPU; using FP32 instead\")\n",
      "/scratch/junzisun/env/jan/lib/python3.10/site-packages/whisper/transcribe.py:114: UserWarning: FP16 is not supported on CPU; using FP32 instead\n",
      "  warnings.warn(\"FP16 is not supported on CPU; using FP32 instead\")\n"
     ]
    },
    {
     "name": "stdout",
     "output_type": "stream",
     "text": [
      "Whisper: Scandinavian 1665 contact Praha 135.135 goodbye. 35.135 Scandinavian 1665 bye.\n",
      "Correct: Scandinavian 1 6 6 5 contact Praha 1 3 5 . 1 3 5 good bye  3 5 1 3 5 Scandinavian 1 6 6  \n"
     ]
    },
    {
     "name": "stderr",
     "output_type": "stream",
     "text": [
      "/scratch/junzisun/env/jan/lib/python3.10/site-packages/whisper/transcribe.py:114: UserWarning: FP16 is not supported on CPU; using FP32 instead\n",
      "  warnings.warn(\"FP16 is not supported on CPU; using FP32 instead\")\n",
      "/scratch/junzisun/env/jan/lib/python3.10/site-packages/whisper/transcribe.py:114: UserWarning: FP16 is not supported on CPU; using FP32 instead\n",
      "  warnings.warn(\"FP16 is not supported on CPU; using FP32 instead\")\n"
     ]
    },
    {
     "name": "stdout",
     "output_type": "stream",
     "text": [
      "Whisper: PAPA Radar, Houston 2550, passing level 233, climbing level 280. Houston 2550, hello radar, contact climb to flight level 330. Houston 2550, climb level 330. GULFIN 789, contact Praha 135, 135, TVR. Over to Praha 135, 135, GULFIN 789, next runway. Lufthansa 77P, contact Praha 136, 405, bye bye. Lufthansa 77P, 136, 405, thank you, bye bye.\n",
      "Correct: Praha Radar Lufthansa 2 5 5 0 passing level 2 3 3 climbing level 2 8 0 Lufthansa 2 5 5 0 hello radar contact climb to FL 3 3 0 Lufthansa 2 5 5 0 climb level 3 3 0 7 8 9 contact Praha 1 3 5 1 3 5  (Praha(Prague)) 1 3 5 1 3 5  7 9  Lufthansa 7 7 P contact (Rhein(rajn)) 1 3 6 4 0 5 bye bye Lufthansa 7 7 P 1 3 64 0 5 thank you bye bye \n"
     ]
    }
   ],
   "source": [
    "result_prompt_zcu = []\n",
    "result_clean_zcu = []\n",
    "correct_zcu = []\n",
    "\n",
    "print('ZCU')\n",
    "for i in range(len(wav_zcu)):\n",
    "    result = model.transcribe(wav_zcu[i], initial_prompt=prompt_zcu, language='en')\n",
    "    result_prompt_zcu.append(result['text'])\n",
    "\n",
    "    result = model.transcribe(wav_zcu[i], language='en')\n",
    "    result_clean_zcu.append(result['text'])\n",
    "    \n",
    "    with open(trs_zcu[i], 'r') as f:\n",
    "        correct = f.read()\n",
    "        correct_zcu.append(correct)\n",
    "    print('Whisper:'+result['text'])\n",
    "    print('Correct: '+correct)"
   ]
  },
  {
   "attachments": {},
   "cell_type": "markdown",
   "id": "b5b35a37",
   "metadata": {},
   "source": [
    "### Framing the data"
   ]
  },
  {
   "cell_type": "code",
   "execution_count": 43,
   "id": "4ffb07b9-e18d-4355-8658-b9fc40be7064",
   "metadata": {},
   "outputs": [],
   "source": [
    "data = pd.DataFrame(columns=['ATCO2-ASR-whisper-clean', 'ATCO2-ASR-whisper-prompt','ATCO2-ASR-correct', 'ATCOSIM-whisper-clean', 'ATCOSIM-whisper-prompt', 'ATCOSIM-correct', 'ZCU-whisper-clean', 'ZCU-whisper-prompt', 'ZCU-correct'])"
   ]
  },
  {
   "cell_type": "code",
   "execution_count": 45,
   "id": "afabcf7b-b29b-4de2-bbe6-71e29470b452",
   "metadata": {},
   "outputs": [],
   "source": [
    "# data['ATCO2-ASR-whisper-clean'] = result_clean_atco2_asr\n",
    "# data['ATCO2-ASR-whisper-prompt'] = result_prompt_atco2_asr\n",
    "# data['ATCO2-ASR-correct'] = correct_atco2_asr\n",
    "\n",
    "data['ATCOSIM-whisper-clean'] = result_clean_atcosim\n",
    "data['ATCOSIM-whisper-prompt'] = result_prompt_atcosim\n",
    "data['ATCOSIM-correct'] = correct_atcosim\n",
    "\n",
    "# data['ZCU-whisper-clean'] = result_clean_zcu\n",
    "# data['ZCU-whisper-prompt'] = result_prompt_zcu\n",
    "# data['ZCU-correct'] = correct_zcu\n",
    "\n",
    "# data.T.to_excel('Whisper-Prompt-test.xlsx') # data is saved with file indexes as columns and data labels as row indexes for easier reading"
   ]
  },
  {
   "cell_type": "code",
   "execution_count": 46,
   "id": "ead8b7c8-f443-4e3d-8f34-6d2d4fd9262c",
   "metadata": {},
   "outputs": [],
   "source": [
    "try:\n",
    "    data\n",
    "except:\n",
    "    import pandas as pd\n",
    "    import numpy as np\n",
    "    data = pd.read_excel('Whisper-Prompt-test.xlsx', header=None, index_col=0)\n",
    "    data = data.T.drop(columns=np.nan)\n",
    "    data.columns.name = None\n",
    "    data = data.reset_index().drop(columns='index')\n",
    "\n",
    "# data_atco2_asr = data[['ATCO2-ASR-whisper-clean', 'ATCO2-ASR-whisper-prompt', 'ATCO2-ASR-correct']]\n",
    "# data_atco2_asr = data_atco2_asr.rename(columns={'ATCO2-ASR-whisper-clean': 'hyp-clean', 'ATCO2-ASR-whisper-prompt': 'hyp-prmpt', 'ATCO2-ASR-correct': 'ref'})\n",
    "\n",
    "data_atcosim   = data[['ATCOSIM-whisper-clean', 'ATCOSIM-whisper-prompt', 'ATCOSIM-correct']]\n",
    "data_atcosim   = data_atcosim.rename(columns={'ATCOSIM-whisper-clean': 'hyp-clean', 'ATCOSIM-whisper-prompt': 'hyp-prmpt', 'ATCOSIM-correct': 'ref'})\n",
    "\n",
    "# data_zcu       = data[['ZCU-whisper-clean', 'ZCU-whisper-prompt', 'ZCU-correct']]\n",
    "# data_zcu       = data_zcu.rename(columns={'ZCU-whisper-clean': 'hyp-clean', 'ZCU-whisper-prompt': 'hyp-prmpt', 'ZCU-correct': 'ref'})"
   ]
  },
  {
   "attachments": {},
   "cell_type": "markdown",
   "id": "9a6b6111-5d0e-423a-ac31-845f246327eb",
   "metadata": {},
   "source": [
    "### Filtering and Normalizing"
   ]
  },
  {
   "cell_type": "code",
   "execution_count": null,
   "id": "8410f85a",
   "metadata": {},
   "outputs": [],
   "source": [
    "import sys\n",
    "import os\n",
    "current = os.path.dirname(os.path.realpath(__file__))\n",
    "parent = os.path.dirname(current)\n",
    "sys.path.append(parent+'/Evaluate')\n",
    "from Normalizer import filterAndNormalize, normalizeOnly"
   ]
  },
  {
   "attachments": {},
   "cell_type": "markdown",
   "id": "506d0e4c",
   "metadata": {},
   "source": [
    "##### Transform"
   ]
  },
  {
   "cell_type": "code",
   "execution_count": 49,
   "id": "10566c88-a32d-4a4f-9cc0-50c98b0885ab",
   "metadata": {
    "editable": true,
    "scrolled": true,
    "slideshow": {
     "slide_type": ""
    },
    "tags": []
   },
   "outputs": [],
   "source": [
    "# data_atco2_asr.loc[:, 'hyp-clean-norm'] = data_atco2_asr.apply(lambda x: filterAndNormalize(x['hyp-clean']), axis=1)\n",
    "# data_atco2_asr.loc[:, 'hyp-prmpt-norm'] = data_atco2_asr.apply(lambda x: filterAndNormalize(x['hyp-prmpt']), axis=1)\n",
    "# data_atco2_asr.loc[:, 'ref-norm']       = data_atco2_asr.apply(lambda x: filterAndNormalize(x['ref']), axis=1)\n",
    "\n",
    "data_atcosim.loc[:, 'hyp-clean-norm']   = data_atcosim.apply(lambda x: normalizeOnly(x['hyp-clean']), axis=1)\n",
    "data_atcosim.loc[:, 'hyp-prmpt-norm']   = data_atcosim.apply(lambda x: normalizeOnly(x['hyp-prmpt']), axis=1)\n",
    "data_atcosim.loc[:, 'ref-norm']         = data_atcosim.apply(lambda x: normalizeOnly(x['ref']), axis=1)\n",
    "\n",
    "# data_zcu.loc[:, 'hyp-clean-norm']       = data_zcu.apply(lambda x: filterAndNormalize(x['hyp-clean']), axis=1)\n",
    "# data_zcu.loc[:, 'hyp-prmpt-norm']       = data_zcu.apply(lambda x: filterAndNormalize(x['hyp-prmpt']), axis=1)\n",
    "# data_zcu.loc[:, 'ref-norm']             = data_zcu.apply(lambda x: filterAndNormalize(x['ref']), axis=1)\n",
    "\n",
    "\n",
    "# # Creating Excel Writer Object from Pandas  \n",
    "# writer = pd.ExcelWriter('Transcripts.xlsx', engine='xlsxwriter')   \n",
    "# data_atco2_asr.T.to_excel(excel_writer=writer, sheet_name='ATCO2-ASR')\n",
    "# data_atcosim.T.to_excel(writer, sheet_name='ATCOSIM')\n",
    "# data_zcu.T.to_excel(writer, sheet_name='ZCU')\n",
    "# writer.save()"
   ]
  },
  {
   "attachments": {},
   "cell_type": "markdown",
   "id": "82ea1e69-a6cc-4c29-b224-4c3e8cb33506",
   "metadata": {},
   "source": [
    "### Calculate WER"
   ]
  },
  {
   "cell_type": "code",
   "execution_count": 50,
   "id": "8d68ba0b-8836-4400-b34a-8c8f9b87d8c3",
   "metadata": {},
   "outputs": [],
   "source": [
    "import jiwer"
   ]
  },
  {
   "cell_type": "code",
   "execution_count": 53,
   "id": "d2427814-13a7-4e7d-ba69-b3fb4d0d9357",
   "metadata": {},
   "outputs": [],
   "source": [
    "# WER ( reference (correct) , hypothesis (whisper) )\n",
    "# wer_atco2_asr_clean  = jiwer.wer(list(data_atco2_asr['ref-norm']), list(data_atco2_asr['hyp-clean-norm']))\n",
    "# wer_atco2_asr_prompt = jiwer.wer(list(data_atco2_asr['ref-norm']), list(data_atco2_asr['hyp-prmpt-norm']))\n",
    "\n",
    "# data_atcosim.loc[0, 'ref-norm'] = 'empty'\n",
    "# data_atcosim.loc[3, 'ref-norm'] = 'emtpy'\n",
    "# data_atcosim.loc[6, 'ref-norm'] = 'empty'\n",
    "wer_atcosim_clean  = jiwer.wer(list(data_atcosim['ref-norm']), list(data_atcosim['hyp-clean-norm']))\n",
    "wer_atcosim_prompt = jiwer.wer(list(data_atcosim['ref-norm']), list(data_atcosim['hyp-prmpt-norm']))\n",
    "\n",
    "# wer_zcu_clean  = jiwer.wer(list(data_zcu['ref-norm']), list(data_zcu['hyp-clean-norm']))\n",
    "# wer_zcu_prompt = jiwer.wer(list(data_zcu['ref-norm']), list(data_zcu['hyp-prmpt-norm']))"
   ]
  },
  {
   "cell_type": "code",
   "execution_count": 54,
   "id": "fb0dee38-db46-4122-a290-49183b635bdd",
   "metadata": {},
   "outputs": [
    {
     "name": "stdout",
     "output_type": "stream",
     "text": [
      "\n",
      "ATCOSIM   -- no prompt: 57.45 %\n",
      "ATCOSIM   --    prompt: 27.66 %\n",
      "\n"
     ]
    }
   ],
   "source": [
    "import numpy as np\n",
    "# print('ATCO2 ASR -- no prompt: {} %'.format(round(wer_atco2_asr_clean*100,2)))\n",
    "# print('ATCO2 ASR --    prompt: {} %'.format(round(wer_atco2_asr_prompt*100,2)))\n",
    "print()\n",
    "print('ATCOSIM   -- no prompt: {} %'.format(round(wer_atcosim_clean*100,2)))\n",
    "print('ATCOSIM   --    prompt: {} %'.format(round(wer_atcosim_prompt*100,2)))\n",
    "print()\n",
    "# print('ZCU       -- no prompt: {} %'.format(round(wer_zcu_clean*100,2)))\n",
    "# print('ZCU       --    prompt: {} %'.format(round(wer_zcu_prompt*100,2)))\n",
    "# print()\n",
    "\n",
    "# wer_avg_clean = np.average([wer_atco2_asr_clean, wer_atcosim_clean, wer_zcu_clean])\n",
    "# wer_avg_prompt = np.average([wer_atco2_asr_prompt, wer_atcosim_prompt, wer_zcu_prompt])\n",
    "# print('Average   -- no prompt: {} %'.format(round(wer_avg_clean*100,2)))\n",
    "# print('Average   --    prompt: {} %'.format(round(wer_avg_prompt*100,2)))"
   ]
  }
 ],
 "metadata": {
  "kernelspec": {
   "display_name": "Python 3 (ipykernel)",
   "language": "python",
   "name": "python3"
  },
  "language_info": {
   "codemirror_mode": {
    "name": "ipython",
    "version": 3
   },
   "file_extension": ".py",
   "mimetype": "text/x-python",
   "name": "python",
   "nbconvert_exporter": "python",
   "pygments_lexer": "ipython3",
   "version": "3.10.10"
  }
 },
 "nbformat": 4,
 "nbformat_minor": 5
}
