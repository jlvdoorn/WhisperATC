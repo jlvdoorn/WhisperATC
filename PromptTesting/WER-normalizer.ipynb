{
 "cells": [
  {
   "cell_type": "code",
   "execution_count": null,
   "metadata": {},
   "outputs": [],
   "source": [
    "import pandas as pd\n",
    "import numpy as np"
   ]
  },
  {
   "cell_type": "markdown",
   "metadata": {},
   "source": [
    "### Loading Data"
   ]
  },
  {
   "cell_type": "code",
   "execution_count": null,
   "metadata": {},
   "outputs": [],
   "source": [
    "from datasets import load_dataset, Audio\n",
    "atco2 = load_dataset('jlvdoorn/atco2')\n",
    "atco2 = atco2.cast_column(\"audio\", Audio(sampling_rate=16000))\n",
    "atcosim = load_dataset('jlvdoorn/atcosim')\n",
    "atcosim = atcosim.cast_column(\"audio\", Audio(sampling_rate=16000))"
   ]
  },
  {
   "cell_type": "code",
   "execution_count": null,
   "metadata": {},
   "outputs": [],
   "source": [
    "audio = []\n",
    "text = []\n",
    "info = []\n",
    "\n",
    "for j in range(5):\n",
    "    audio.append(atco2['train'][j]['audio']['array'])\n",
    "    text.append(atco2['train'][j]['text'])\n",
    "    info.append(atco2['train'][j]['info'].replace('\\n', ' '))\n",
    "    \n",
    "    audio.append(atcosim['train'][j]['audio']['array'])\n",
    "    text.append(atcosim['train'][j]['text'])"
   ]
  },
  {
   "cell_type": "markdown",
   "metadata": {},
   "source": [
    "### Transcribing Audio"
   ]
  },
  {
   "cell_type": "code",
   "execution_count": null,
   "metadata": {},
   "outputs": [],
   "source": [
    "import whisper\n",
    "model = whisper.load_model('large-v2')"
   ]
  },
  {
   "cell_type": "code",
   "execution_count": null,
   "metadata": {},
   "outputs": [],
   "source": [
    "df = pd.DataFrame(columns=['hyp', 'ref'])"
   ]
  },
  {
   "cell_type": "code",
   "execution_count": null,
   "metadata": {},
   "outputs": [],
   "source": [
    "for i in range(len(audio)):\n",
    "    aud = whisper.pad_or_trim(audio[i])\n",
    "    mel = whisper.log_mel_spectrogram(np.float32(aud)).to(model.device)\n",
    "    options = whisper.DecodingOptions(language='en', fp16=False)\n",
    "    hyp = whisper.decode(model, mel, options=options)\n",
    "    ref = text[i]\n",
    "    df.loc[i] = [hyp, ref]"
   ]
  },
  {
   "cell_type": "markdown",
   "metadata": {},
   "source": [
    "### Building the Normalizer"
   ]
  },
  {
   "cell_type": "markdown",
   "metadata": {},
   "source": [
    "The normalizer file (WhisperATC/Evaluate/Normalizer.py) can be edited and reloaded in this notebook."
   ]
  },
  {
   "cell_type": "code",
   "execution_count": null,
   "metadata": {},
   "outputs": [],
   "source": [
    "import sys\n",
    "import os\n",
    "current = os.path.dirname(os.path.realpath(__file__))\n",
    "parent = os.path.dirname(current)\n",
    "sys.path.append(parent+'/WhisperATC/Evaluate')\n",
    "from Normalizer import filterAndNormalize"
   ]
  },
  {
   "cell_type": "markdown",
   "metadata": {},
   "source": [
    "### Calculate WER"
   ]
  },
  {
   "cell_type": "code",
   "execution_count": null,
   "metadata": {},
   "outputs": [],
   "source": [
    "df['hyp-norm'] = df.apply(lambda x: filterAndNormalize(x['hyp']), axis=1)\n",
    "df['ref-norm'] = df.apply(lambda x: filterAndNormalize(x['ref']), axis=1)"
   ]
  },
  {
   "cell_type": "code",
   "execution_count": null,
   "metadata": {},
   "outputs": [],
   "source": [
    "import jiwer"
   ]
  },
  {
   "cell_type": "code",
   "execution_count": null,
   "metadata": {},
   "outputs": [],
   "source": [
    "wer_cln = jiwer.wer(list(df['ref']), list(df['hyp']))\n",
    "wer_nrm = jiwer.wer(list(df['ref-norm']), list(df['hyp-norm']))\n",
    "print('clean: {} %'.format(round(wer_cln*100,4)))\n",
    "print('norm : {} %'.format(round(wer_nrm*100,4)))"
   ]
  }
 ],
 "metadata": {
  "kernelspec": {
   "display_name": "Python 3 (ipykernel)",
   "language": "python",
   "name": "python3"
  },
  "language_info": {
   "codemirror_mode": {
    "name": "ipython",
    "version": 3
   },
   "file_extension": ".py",
   "mimetype": "text/x-python",
   "name": "python",
   "nbconvert_exporter": "python",
   "pygments_lexer": "ipython3",
   "version": "3.9.7"
  }
 },
 "nbformat": 4,
 "nbformat_minor": 4
}
