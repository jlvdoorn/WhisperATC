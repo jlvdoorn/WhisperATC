{
 "cells": [
  {
   "cell_type": "code",
   "execution_count": null,
   "metadata": {},
   "outputs": [],
   "source": [
    "import pandas as pd\n",
    "import numpy as np"
   ]
  },
  {
   "cell_type": "markdown",
   "metadata": {},
   "source": [
    "### Loading Data"
   ]
  },
  {
   "cell_type": "code",
   "execution_count": null,
   "metadata": {},
   "outputs": [],
   "source": [
    "from datasets import load_dataset, Audio\n",
    "atco2 = load_dataset('jlvdoorn/atco2')\n",
    "atco2 = atco2.cast_column(\"audio\", Audio(sampling_rate=16000))\n",
    "atcosim = load_dataset('jlvdoorn/atcosim')\n",
    "atcosim = atcosim.cast_column(\"audio\", Audio(sampling_rate=16000))"
   ]
  },
  {
   "cell_type": "code",
   "execution_count": null,
   "metadata": {},
   "outputs": [],
   "source": [
    "audio = []\n",
    "text = []\n",
    "info = []\n",
    "\n",
    "for j in range(5):\n",
    "    audio.append(atco2['train'][j]['audio']['array'])\n",
    "    text.append(atco2['train'][j]['text'])\n",
    "    info.append(atco2['train'][j]['info'].replace('\\n', ' '))\n",
    "    \n",
    "    audio.append(atcosim['train'][j]['audio']['array'])\n",
    "    text.append(atcosim['train'][j]['text'])"
   ]
  },
  {
   "cell_type": "markdown",
   "metadata": {},
   "source": [
    "### Load Model"
   ]
  },
  {
   "cell_type": "code",
   "execution_count": null,
   "metadata": {},
   "outputs": [],
   "source": [
    "import whisper\n",
    "model = whisper.load_model('large-v2')"
   ]
  },
  {
   "cell_type": "code",
   "execution_count": null,
   "metadata": {},
   "outputs": [],
   "source": [
    "df = pd.DataFrame(columns=['hyp', 'hyp-prmpt', 'ref'])"
   ]
  },
  {
   "cell_type": "markdown",
   "metadata": {},
   "source": [
    "### Setup Prompts"
   ]
  },
  {
   "cell_type": "markdown",
   "metadata": {},
   "source": [
    "Here, the prompt can be edited for every try. In the second block, if available, the radar data is added."
   ]
  },
  {
   "cell_type": "code",
   "execution_count": null,
   "metadata": {},
   "outputs": [],
   "source": [
    "general = 'Air Traffic Control communications'\n",
    "nato = 'alpha,bravo,charlie,delta,echo,foxtrot,golf,hotel,india,juliett,kilo,lima,mike,november,oscar,papa,quebec,romeo,sierra,tango,uniform,victor,whiskey,xray,yankee,zulu'\n",
    "terminology = 'climb, climbing, descend, descending, passing, feet, knots, degrees, direct, maintain, identified, ILS, VFR, IFR, contact, frequency, turn, right, left, heading, altitude, flight, level, cleared, squawk, approach, runway, established, report, affirm, negative, wilco, roger, radio, radar'"
   ]
  },
  {
   "cell_type": "code",
   "execution_count": null,
   "metadata": {},
   "outputs": [],
   "source": [
    "for i in range(len(audio)):\n",
    "    aud = whisper.pad_or_trim(audio[i])\n",
    "    mel = whisper.log_mel_spectrogram(np.float32(aud)).to(model.device)\n",
    "    \n",
    "    options = whisper.DecodingOptions(language='en', fp16=False)\n",
    "    hyp = whisper.decode(model, mel, options=options)\n",
    "    \n",
    "    try:\n",
    "        prompt = general+' '+info[i]+' '+nato.replace(',', ' ')+' '+terminology.replace(',', ' ')\n",
    "    except:\n",
    "        prompt = general+' '+nato.replace(',', ' ')+' '+terminology.replace(',', ' ')\n",
    "    options = whisper.DecodingOptions(language='en', fp16=False, prompt=prompt)\n",
    "    hyp_prmpt = whisper.decode(model, mel, options=options)\n",
    "    \n",
    "    ref = text[i]\n",
    "    \n",
    "    df.loc[i] = [hyp, hyp_prmpt, ref]"
   ]
  },
  {
   "attachments": {},
   "cell_type": "markdown",
   "metadata": {},
   "source": [
    "### Building the Normalizer"
   ]
  },
  {
   "cell_type": "code",
   "execution_count": null,
   "metadata": {},
   "outputs": [],
   "source": [
    "import sys\n",
    "import os\n",
    "current = os.path.dirname(os.path.realpath(__file__))\n",
    "parent = os.path.dirname(current)\n",
    "sys.path.append(parent+'/Evaluate')\n",
    "from Normalizer import filterAndNormalize"
   ]
  },
  {
   "cell_type": "markdown",
   "metadata": {},
   "source": [
    "### Calculate WER"
   ]
  },
  {
   "cell_type": "code",
   "execution_count": null,
   "metadata": {},
   "outputs": [],
   "source": [
    "df['hyp-norm'] = df.apply(lambda x: filterAndNormalize(x['hyp']), axis=1)\n",
    "df['ref-norm'] = df.apply(lambda x: filterAndNormalize(x['ref']), axis=1)"
   ]
  },
  {
   "cell_type": "code",
   "execution_count": null,
   "metadata": {},
   "outputs": [],
   "source": [
    "import jiwer"
   ]
  },
  {
   "cell_type": "code",
   "execution_count": null,
   "metadata": {},
   "outputs": [],
   "source": [
    "wer_cln = jiwer.wer(list(df['ref']), list(df['hyp']))\n",
    "wer_nrm = jiwer.wer(list(df['ref-norm']), list(df['hyp-norm']))\n",
    "print('clean: {} %'.format(round(wer_cln*100,4)))\n",
    "print('norm : {} %'.format(round(wer_nrm*100,4)))"
   ]
  }
 ],
 "metadata": {
  "kernelspec": {
   "display_name": "Python 3 (ipykernel)",
   "language": "python",
   "name": "python3"
  },
  "language_info": {
   "codemirror_mode": {
    "name": "ipython",
    "version": 3
   },
   "file_extension": ".py",
   "mimetype": "text/x-python",
   "name": "python",
   "nbconvert_exporter": "python",
   "pygments_lexer": "ipython3",
   "version": "3.11.5"
  },
  "orig_nbformat": 4
 },
 "nbformat": 4,
 "nbformat_minor": 2
}
