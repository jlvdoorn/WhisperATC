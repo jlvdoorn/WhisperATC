{
 "cells": [
  {
   "cell_type": "code",
   "execution_count": 1,
   "metadata": {},
   "outputs": [],
   "source": [
    "import pandas as pd\n",
    "import numpy as np\n",
    "import jiwer\n",
    "import glob"
   ]
  },
  {
   "cell_type": "code",
   "execution_count": 16,
   "metadata": {},
   "outputs": [],
   "source": [
    "xlsx_files = glob.glob('./*.xlsx')"
   ]
  },
  {
   "cell_type": "markdown",
   "metadata": {},
   "source": [
    "### Normalization"
   ]
  },
  {
   "cell_type": "code",
   "execution_count": 10,
   "metadata": {},
   "outputs": [
    {
     "name": "stderr",
     "output_type": "stream",
     "text": [
      "/scratch/junzisun/env/jan/lib/python3.10/site-packages/whisper/timing.py:58: NumbaDeprecationWarning: \u001b[1mThe 'nopython' keyword argument was not supplied to the 'numba.jit' decorator. The implicit default value for this argument is currently False, but it will be changed to True in Numba 0.59.0. See https://numba.readthedocs.io/en/stable/reference/deprecation.html#deprecation-of-object-mode-fall-back-behaviour-when-using-jit for details.\u001b[0m\n",
      "  def backtrace(trace: np.ndarray):\n"
     ]
    }
   ],
   "source": [
    "import sys\n",
    "import os\n",
    "current = os.path.dirname(os.path.realpath(__name__))\n",
    "parent = os.path.dirname(current)\n",
    "sys.path.append(parent)\n",
    "from Normalizer import filterAndNormalize, normalizeOnly"
   ]
  },
  {
   "cell_type": "markdown",
   "metadata": {},
   "source": [
    "### WER Insights"
   ]
  },
  {
   "cell_type": "code",
   "execution_count": 11,
   "metadata": {},
   "outputs": [],
   "source": [
    "def calcWER(ref, hyp):\n",
    "    out = jiwer.process_words(ref, hyp)\n",
    "    return jiwer.visualize_alignment(out)"
   ]
  },
  {
   "cell_type": "code",
   "execution_count": 18,
   "metadata": {},
   "outputs": [],
   "source": [
    "for file in xlsx_files:\n",
    "    df = pd.read_excel(file)\n",
    "    df = df.drop(columns=['Unnamed: 0'])\n",
    "    \n",
    "    df['ref-norm'] = df.apply(lambda x: filterAndNormalize(str(x['ref'])), axis=1)\n",
    "    df['hyp-clean-norm'] = df.apply(lambda x: filterAndNormalize(str(x['hyp-clean'])), axis=1)\n",
    "    df['hyp-prmpt-norm'] = df.apply(lambda x: filterAndNormalize(str(x['hyp-prmpt'])), axis=1)\n",
    "    \n",
    "    df['WER-clean'] = df.apply(lambda x: calcWER(str(x['ref']), str(x['hyp-clean'])), axis=1)\n",
    "    df['WER-prmpt'] = df.apply(lambda x: calcWER(str(x['ref']), str(x['hyp-prmpt'])), axis=1)\n",
    "    df['WER-clean-norm'] = df.apply(lambda x: calcWER(str(x['ref-norm']), str(x['hyp-clean-norm'])), axis=1)\n",
    "    df['WER-clean-prmpt'] = df.apply(lambda x: calcWER(str(x['ref-norm']), str(x['hyp-prmpt-norm'])), axis=1)\n",
    "    \n",
    "    df.to_excel(file[:-5]+'-WER_insights.xlsx')"
   ]
  }
 ],
 "metadata": {
  "kernelspec": {
   "display_name": "Python 3",
   "language": "python",
   "name": "python3"
  },
  "language_info": {
   "codemirror_mode": {
    "name": "ipython",
    "version": 3
   },
   "file_extension": ".py",
   "mimetype": "text/x-python",
   "name": "python",
   "nbconvert_exporter": "python",
   "pygments_lexer": "ipython3",
   "version": "3.10.10"
  },
  "orig_nbformat": 4
 },
 "nbformat": 4,
 "nbformat_minor": 2
}
