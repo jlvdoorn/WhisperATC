{
 "cells": [
  {
   "cell_type": "code",
   "execution_count": null,
   "metadata": {},
   "outputs": [],
   "source": [
    "import pandas as pd\n",
    "import numpy as np\n",
    "import jiwer\n",
    "import glob"
   ]
  },
  {
   "cell_type": "code",
   "execution_count": null,
   "metadata": {},
   "outputs": [],
   "source": [
    "xlsx_files = glob.glob('./*.xlsx')"
   ]
  },
  {
   "cell_type": "markdown",
   "metadata": {},
   "source": [
    "### Normalization"
   ]
  },
  {
   "cell_type": "code",
   "execution_count": null,
   "metadata": {},
   "outputs": [],
   "source": [
    "from Normalizer import filterAndNormalize, normalizeOnly"
   ]
  },
  {
   "cell_type": "markdown",
   "metadata": {},
   "source": [
    "### WER Insights"
   ]
  },
  {
   "cell_type": "code",
   "execution_count": null,
   "metadata": {},
   "outputs": [],
   "source": [
    "def calcWER(ref, hyp):\n",
    "    out = jiwer.process_words(ref, hyp)\n",
    "    return jiwer.visualize_alignment(out)"
   ]
  },
  {
   "cell_type": "code",
   "execution_count": null,
   "metadata": {},
   "outputs": [],
   "source": [
    "for file in xlsx_files:\n",
    "    df = pd.read_excel(file)\n",
    "    df = df.drop(columns=['Unnamed: 0'])\n",
    "    \n",
    "    df['ref-norm'] = df.apply(lambda x: filterAndNormalize(x['ref']), axis=1)\n",
    "    df['hyp-clean-norm'] = df.apply(lambda x: filterAndNormalize(x['hyp-clean']), axis=1)\n",
    "    df['hyp-prmpt-norm'] = df.apply(lambda x: filterAndNormalize(x['hyp-prmpt']), axis=1)\n",
    "    \n",
    "    df['WER-clean'] = df.apply(lambda x: calcWER(x['ref'], x['hyp-clean']), axis=1)\n",
    "    df['WER-prmpt'] = df.apply(lambda x: calcWER(x['ref'], x['hyp-prmpt']), axis=1)\n",
    "    df['WER-clean-norm'] = df.apply(lambda x: calcWER(x['ref-norm'], x['hyp-clean-norm']), axis=1)\n",
    "    df['WER-clean-prmpt'] = df.apply(lambda x: calcWER(x['ref-norm'], x['hyp-prmpt-norm']), axis=1)\n",
    "    \n",
    "    df.to_excel(file[:-5]+'-WER_insights.xlsx')"
   ]
  }
 ],
 "metadata": {
  "language_info": {
   "name": "python"
  },
  "orig_nbformat": 4
 },
 "nbformat": 4,
 "nbformat_minor": 2
}
