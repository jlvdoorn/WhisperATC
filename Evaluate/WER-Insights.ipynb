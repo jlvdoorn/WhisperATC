{
 "cells": [
  {
   "cell_type": "code",
   "execution_count": 1,
   "metadata": {},
   "outputs": [],
   "source": [
    "import pandas as pd\n",
    "import numpy as np\n",
    "import jiwer\n",
    "import glob"
   ]
  },
  {
   "cell_type": "code",
   "execution_count": 4,
   "metadata": {},
   "outputs": [
    {
     "name": "stdout",
     "output_type": "stream",
     "text": [
      "12\n"
     ]
    }
   ],
   "source": [
    "xlsx_files = glob.glob('./*.xlsx')\n",
    "print(len(xlsx_files))"
   ]
  },
  {
   "cell_type": "markdown",
   "metadata": {},
   "source": [
    "### Normalization"
   ]
  },
  {
   "cell_type": "code",
   "execution_count": 5,
   "metadata": {},
   "outputs": [
    {
     "name": "stderr",
     "output_type": "stream",
     "text": [
      "/scratch/junzisun/env/jan/lib/python3.10/site-packages/whisper/timing.py:58: NumbaDeprecationWarning: \u001b[1mThe 'nopython' keyword argument was not supplied to the 'numba.jit' decorator. The implicit default value for this argument is currently False, but it will be changed to True in Numba 0.59.0. See https://numba.readthedocs.io/en/stable/reference/deprecation.html#deprecation-of-object-mode-fall-back-behaviour-when-using-jit for details.\u001b[0m\n",
      "  def backtrace(trace: np.ndarray):\n"
     ]
    }
   ],
   "source": [
    "import sys\n",
    "import os\n",
    "current = os.path.dirname(os.path.realpath(__name__))\n",
    "parent = os.path.dirname(current)\n",
    "sys.path.append(parent)\n",
    "from Normalizer import filterAndNormalize, normalizeOnly"
   ]
  },
  {
   "cell_type": "markdown",
   "metadata": {},
   "source": [
    "### WER Insights"
   ]
  },
  {
   "cell_type": "code",
   "execution_count": 6,
   "metadata": {},
   "outputs": [],
   "source": [
    "def calcWERInfo(ref, hyp):\n",
    "    out = jiwer.process_words(ref, hyp)\n",
    "    return jiwer.visualize_alignment(out)\n",
    "\n",
    "def calcWER(ref, hyp):\n",
    "    return jiwer.wer(ref, hyp)*100"
   ]
  },
  {
   "cell_type": "code",
   "execution_count": 7,
   "metadata": {},
   "outputs": [],
   "source": [
    "for file in xlsx_files:\n",
    "    df = pd.read_excel(file)\n",
    "    df = df.drop(columns=['Unnamed: 0'])\n",
    "    \n",
    "    df['ref-norm'] = df.apply(lambda x: filterAndNormalize(str(x['ref'])), axis=1)\n",
    "    df['hyp-clean-norm'] = df.apply(lambda x: filterAndNormalize(str(x['hyp-clean'])), axis=1)\n",
    "    df['hyp-prmpt-norm'] = df.apply(lambda x: filterAndNormalize(str(x['hyp-prmpt'])), axis=1)\n",
    "    \n",
    "    df['WER-info-clean'] = df.apply(lambda x: calcWERInfo(str(x['ref']), str(x['hyp-clean'])), axis=1)\n",
    "    df['WER-info-prmpt'] = df.apply(lambda x: calcWERInfo(str(x['ref']), str(x['hyp-prmpt'])), axis=1)\n",
    "    df['WER-info-clean-norm'] = df.apply(lambda x: calcWERInfo(str(x['ref-norm']), str(x['hyp-clean-norm'])), axis=1)\n",
    "    df['WER-info-clean-prmpt'] = df.apply(lambda x: calcWERInfo(str(x['ref-norm']), str(x['hyp-prmpt-norm'])), axis=1)\n",
    "    \n",
    "    df['WER-clean'] = df.apply(lambda x: calcWER(str(x['ref']), str(x['hyp-clean'])), axis=1)\n",
    "    df['WER-prmpt'] = df.apply(lambda x: calcWER(str(x['ref']), str(x['hyp-prmpt'])), axis=1)\n",
    "    df['WER-clean-norm'] = df.apply(lambda x: calcWER(str(x['ref-norm']), str(x['hyp-clean-norm'])), axis=1)\n",
    "    df['WER-clean-prmpt'] = df.apply(lambda x: calcWER(str(x['ref-norm']), str(x['hyp-prmpt-norm'])), axis=1)\n",
    "    \n",
    "    for s in ['train+validation', 'validation']:\n",
    "        df2 = df[df['split'].isin(s.split('+'))]\n",
    "        avgWER_clean = df2['WER-clean'].mean()\n",
    "        avgWER_prmpt = df2['WER-prmpt'].mean()\n",
    "        avgWER_clean_norm = df2['WER-clean-norm'].mean()\n",
    "        avgWER_prmpt_norm = df2['WER-clean-prmpt'].mean()\n",
    "        \n",
    "        df.loc['avg-'+s, ['WER-clean', 'WER-prmpt', 'WER-clean-norm', 'WER-clean-prmpt']] = [avgWER_clean, avgWER_prmpt, avgWER_clean_norm, avgWER_prmpt_norm]\n",
    "    \n",
    "    for s in ['train+validation', 'validation']:\n",
    "        df3 = df[df['split'].isin(s.split('+'))]\n",
    "        \n",
    "        ref_text = ' '.join([str(x) for x in list(df3['ref'])])\n",
    "        ref_norm_text = ' '.join([str(x) for x in list(df3['ref-norm'])])\n",
    "        hyp_clean_text = ' '.join([str(x) for x in list(df3['hyp-clean'])])\n",
    "        hyp_clean_norm_text = ' '.join([str(x) for x in list(df3['hyp-clean-norm'])])\n",
    "        hyp_prmpt_text = ' '.join([str(x) for x in list(df3['hyp-prmpt'])])\n",
    "        hyp_prmpt_norm_text = ' '.join([str(x) for x in list(df3['hyp-prmpt-norm'])])\n",
    "        \n",
    "        wer_weighted_clean = calcWER(ref_text, hyp_clean_text)\n",
    "        wer_weighted_prmpt = calcWER(ref_text, hyp_prmpt_text)\n",
    "        wer_weighted_clean_norm = calcWER(ref_norm_text, hyp_clean_norm_text)\n",
    "        wer_weighted_prmpt_norm = calcWER(ref_norm_text, hyp_prmpt_norm_text)\n",
    "        \n",
    "        df.loc['avg-'+s+'-weighted', ['WER-clean', 'WER-prmpt', 'WER-clean-norm', 'WER-clean-prmpt']] = [wer_weighted_clean, wer_weighted_prmpt, wer_weighted_clean_norm, wer_weighted_prmpt_norm]\n",
    "    df.to_excel(file[:-5]+'-WER_insights.xlsx')"
   ]
  }
 ],
 "metadata": {
  "kernelspec": {
   "display_name": "jan",
   "language": "python",
   "name": "jan"
  },
  "language_info": {
   "codemirror_mode": {
    "name": "ipython",
    "version": 3
   },
   "file_extension": ".py",
   "mimetype": "text/x-python",
   "name": "python",
   "nbconvert_exporter": "python",
   "pygments_lexer": "ipython3",
   "version": "3.10.10"
  },
  "orig_nbformat": 4
 },
 "nbformat": 4,
 "nbformat_minor": 2
}
