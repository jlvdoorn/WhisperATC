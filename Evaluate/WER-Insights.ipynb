{
 "cells": [
  {
   "cell_type": "code",
   "execution_count": 1,
   "metadata": {},
   "outputs": [],
   "source": [
    "import pandas as pd\n",
    "import numpy as np\n",
    "import jiwer\n",
    "import glob"
   ]
  },
  {
   "cell_type": "code",
   "execution_count": 4,
   "metadata": {},
   "outputs": [
    {
     "name": "stdout",
     "output_type": "stream",
     "text": [
      "12\n"
     ]
    }
   ],
   "source": [
    "xlsx_files = glob.glob('./*.xlsx')\n",
    "print(len(xlsx_files))"
   ]
  },
  {
   "cell_type": "markdown",
   "metadata": {},
   "source": [
    "### Normalization"
   ]
  },
  {
   "cell_type": "code",
   "execution_count": 5,
   "metadata": {},
   "outputs": [
    {
     "name": "stderr",
     "output_type": "stream",
     "text": [
      "/scratch/junzisun/env/jan/lib/python3.10/site-packages/whisper/timing.py:58: NumbaDeprecationWarning: \u001b[1mThe 'nopython' keyword argument was not supplied to the 'numba.jit' decorator. The implicit default value for this argument is currently False, but it will be changed to True in Numba 0.59.0. See https://numba.readthedocs.io/en/stable/reference/deprecation.html#deprecation-of-object-mode-fall-back-behaviour-when-using-jit for details.\u001b[0m\n",
      "  def backtrace(trace: np.ndarray):\n"
     ]
    }
   ],
   "source": [
    "import sys\n",
    "import os\n",
    "current = os.path.dirname(os.path.realpath(__name__))\n",
    "parent = os.path.dirname(current)\n",
    "sys.path.append(parent)\n",
    "from Normalizer import filterAndNormalize, normalizeOnly"
   ]
  },
  {
   "cell_type": "markdown",
   "metadata": {},
   "source": [
    "### WER Insights"
   ]
  },
  {
   "cell_type": "code",
   "execution_count": 6,
   "metadata": {},
   "outputs": [],
   "source": [
    "def calcWERInfo(ref, hyp):\n",
    "    out = jiwer.process_words(ref, hyp)\n",
    "    return jiwer.visualize_alignment(out)\n",
    "\n",
    "def calcWER(ref, hyp):\n",
    "    return jiwer.wer(ref, hyp)*100"
   ]
  },
  {
   "cell_type": "code",
   "execution_count": 7,
   "metadata": {},
   "outputs": [],
   "source": [
    "for file in xlsx_files:\n",
    "    df = pd.read_excel(file)\n",
    "    df = df.drop(columns=['Unnamed: 0'])\n",
    "    \n",
    "    df['ref-norm'] = df.apply(lambda x: filterAndNormalize(str(x['ref'])), axis=1)\n",
    "    df['hyp-clean-norm'] = df.apply(lambda x: filterAndNormalize(str(x['hyp-clean'])), axis=1)\n",
    "    df['hyp-prmpt-norm'] = df.apply(lambda x: filterAndNormalize(str(x['hyp-prmpt'])), axis=1)\n",
    "    \n",
    "    df['WER-info-clean'] = df.apply(lambda x: calcWERInfo(str(x['ref']), str(x['hyp-clean'])), axis=1)\n",
    "    df['WER-info-prmpt'] = df.apply(lambda x: calcWERInfo(str(x['ref']), str(x['hyp-prmpt'])), axis=1)\n",
    "    df['WER-info-clean-norm'] = df.apply(lambda x: calcWERInfo(str(x['ref-norm']), str(x['hyp-clean-norm'])), axis=1)\n",
    "    df['WER-info-clean-prmpt'] = df.apply(lambda x: calcWERInfo(str(x['ref-norm']), str(x['hyp-prmpt-norm'])), axis=1)\n",
    "    \n",
    "    df['WER-clean'] = df.apply(lambda x: calcWER(str(x['ref']), str(x['hyp-clean'])), axis=1)\n",
    "    df['WER-prmpt'] = df.apply(lambda x: calcWER(str(x['ref']), str(x['hyp-prmpt'])), axis=1)\n",
    "    df['WER-clean-norm'] = df.apply(lambda x: calcWER(str(x['ref-norm']), str(x['hyp-clean-norm'])), axis=1)\n",
    "    df['WER-clean-prmpt'] = df.apply(lambda x: calcWER(str(x['ref-norm']), str(x['hyp-prmpt-norm'])), axis=1)\n",
    "    \n",
    "    for s in ['train+validation', 'validation']:\t\n",
    "        df3 = df[df['split'].isin(s.split('+'))]\n",
    "        \n",
    "        wer_avg_clean = calcWER(list(df3['ref']), list(df3['hyp-clean']))\n",
    "        wer_avg_prmpt = calcWER(list(df3['ref']), list(df3['hyp-prmpt']))\n",
    "        wer_avg_clean_norm = calcWER(list(df3['ref-norm']), list(df3['hyp-clean-norm']))\n",
    "        wer_avg_prmpt_norm = calcWER(list(df3['ref-norm']), list(df3['hyp-prmpt-norm']))\n",
    "        \n",
    "        df.loc['avg-'+s, ['WER-clean', 'WER-prmpt', 'WER-clean-norm', 'WER-clean-prmpt']] = [round(wer_avg_clean, 4), round(wer_avg_prmpt, 4), round(wer_avg_clean_norm, 4), round(wer_avg_prmpt_norm, 4)]\n",
    "        \n",
    "    df.to_excel(file[:-5]+'-WER_insights.xlsx')"
   ]
  }
 ],
 "metadata": {
  "kernelspec": {
   "display_name": "jan",
   "language": "python",
   "name": "jan"
  },
  "orig_nbformat": 4
 },
 "nbformat": 4,
 "nbformat_minor": 2
}
