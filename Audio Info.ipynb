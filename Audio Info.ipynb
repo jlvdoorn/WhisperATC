{
 "cells": [
  {
   "cell_type": "code",
   "execution_count": 17,
   "id": "4fae7c7b-434c-4dcd-a6d1-5495b74fc875",
   "metadata": {},
   "outputs": [],
   "source": [
    "import glob\n",
    "import audioread"
   ]
  },
  {
   "cell_type": "code",
   "execution_count": 7,
   "id": "d5226fa3-530e-4438-85db-5c3a8e9c61b3",
   "metadata": {},
   "outputs": [],
   "source": [
    "wav_files = glob.glob('./audio/*.wav')\n",
    "if len(wav_files) == 0:\n",
    "    print('No Audio files found!')"
   ]
  },
  {
   "cell_type": "code",
   "execution_count": 8,
   "id": "71f62a83-d904-4953-b44a-a9c33c7b247e",
   "metadata": {},
   "outputs": [],
   "source": [
    "# function to convert the information into \n",
    "# some readable format\n",
    "def audio_duration(length):\n",
    "    hours = length // 3600  # calculate in hours\n",
    "    length %= 3600\n",
    "    mins = length // 60  # calculate in minutes\n",
    "    length %= 60\n",
    "    seconds = length  # calculate in seconds\n",
    "  \n",
    "    return hours, mins, seconds  # returns the duration"
   ]
  },
  {
   "cell_type": "code",
   "execution_count": 18,
   "id": "d7f3de42-2ff1-4850-b1be-a6e5011cf9a6",
   "metadata": {},
   "outputs": [],
   "source": [
    "length = 0\n",
    "for file in wav_files:\n",
    "    with audioread.audio_open(file) as f:\n",
    "        totalsec = f.duration\n",
    "        length = length+int(totalsec)\n",
    "        print('Processed: {:.3f}%'.format(wav_files.index(file) / len(wav_files) * 100))"
   ]
  },
  {
   "cell_type": "code",
   "execution_count": 19,
   "id": "7abff8ba-42d7-4302-baef-ec7c7b262a65",
   "metadata": {},
   "outputs": [
    {
     "name": "stdout",
     "output_type": "stream",
     "text": [
      "Total Duration: 138:49:39\n"
     ]
    }
   ],
   "source": [
    "hours, mins, seconds = audio_duration(length)\n",
    "print('Total Duration: {}:{}:{}'.format(hours, mins, seconds))\n",
    "print('Audio Files   : {}'.format(len(wav_files)))"
   ]
  }
 ],
 "metadata": {
  "kernelspec": {
   "display_name": "Python [conda env:whisper]",
   "language": "python",
   "name": "conda-env-whisper-py"
  },
  "language_info": {
   "codemirror_mode": {
    "name": "ipython",
    "version": 3
   },
   "file_extension": ".py",
   "mimetype": "text/x-python",
   "name": "python",
   "nbconvert_exporter": "python",
   "pygments_lexer": "ipython3",
   "version": "3.11.3"
  }
 },
 "nbformat": 4,
 "nbformat_minor": 5
}
